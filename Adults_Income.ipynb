{
  "nbformat": 4,
  "nbformat_minor": 0,
  "metadata": {
    "kernelspec": {
      "display_name": "Python 3",
      "language": "python",
      "name": "python3"
    },
    "language_info": {
      "codemirror_mode": {
        "name": "ipython",
        "version": 3
      },
      "file_extension": ".py",
      "mimetype": "text/x-python",
      "name": "python",
      "nbconvert_exporter": "python",
      "pygments_lexer": "ipython3",
      "version": "3.7.0"
    },
    "colab": {
      "name": "Adults Income.ipynb",
      "provenance": [],
      "collapsed_sections": []
    }
  },
  "cells": [
    {
      "cell_type": "code",
      "metadata": {
        "id": "msjUTXxL7hlQ",
        "colab_type": "code",
        "colab": {}
      },
      "source": [
        "import pandas as pd\n",
        "from imblearn.combine import SMOTETomek"
      ],
      "execution_count": 0,
      "outputs": []
    },
    {
      "cell_type": "code",
      "metadata": {
        "id": "Z_bW0U4Y-A-I",
        "colab_type": "code",
        "colab": {}
      },
      "source": [
        "smk=SMOTETomek(random_state=42)"
      ],
      "execution_count": 0,
      "outputs": []
    },
    {
      "cell_type": "code",
      "metadata": {
        "id": "VouMZLxY7tOv",
        "colab_type": "code",
        "colab": {
          "base_uri": "https://localhost:8080/",
          "height": 34
        },
        "outputId": "af41fd52-6f7e-404f-d5b5-de514967cf47"
      },
      "source": [
        "from google.colab import drive\n",
        "drive.mount('/content/drive')"
      ],
      "execution_count": 456,
      "outputs": [
        {
          "output_type": "stream",
          "text": [
            "Drive already mounted at /content/drive; to attempt to forcibly remount, call drive.mount(\"/content/drive\", force_remount=True).\n"
          ],
          "name": "stdout"
        }
      ]
    },
    {
      "cell_type": "code",
      "metadata": {
        "id": "LwNkQBE87hlf",
        "colab_type": "code",
        "colab": {
          "base_uri": "https://localhost:8080/",
          "height": 51
        },
        "outputId": "a6bdda3b-e28a-4932-be79-19d327708013"
      },
      "source": [
        "df=pd.read_table('/content/drive/My Drive/adult.data',header=None)"
      ],
      "execution_count": 457,
      "outputs": [
        {
          "output_type": "stream",
          "text": [
            "/usr/local/lib/python3.6/dist-packages/ipykernel_launcher.py:1: FutureWarning: read_table is deprecated, use read_csv instead, passing sep='\\t'.\n",
            "  \"\"\"Entry point for launching an IPython kernel.\n"
          ],
          "name": "stderr"
        }
      ]
    },
    {
      "cell_type": "code",
      "metadata": {
        "id": "TbyjVF8C7hlp",
        "colab_type": "code",
        "colab": {
          "base_uri": "https://localhost:8080/",
          "height": 51
        },
        "outputId": "2e751aae-f55b-45f2-b919-24843313033c"
      },
      "source": [
        "dd=pd.read_table('/content/drive/My Drive/adult.test',header=None)"
      ],
      "execution_count": 458,
      "outputs": [
        {
          "output_type": "stream",
          "text": [
            "/usr/local/lib/python3.6/dist-packages/ipykernel_launcher.py:1: FutureWarning: read_table is deprecated, use read_csv instead, passing sep='\\t'.\n",
            "  \"\"\"Entry point for launching an IPython kernel.\n"
          ],
          "name": "stderr"
        }
      ]
    },
    {
      "cell_type": "code",
      "metadata": {
        "id": "NThGGCJl7hly",
        "colab_type": "code",
        "colab": {
          "base_uri": "https://localhost:8080/",
          "height": 204
        },
        "outputId": "8ad1f726-0aa3-465a-c6f2-88febb9318fb"
      },
      "source": [
        "df.head()"
      ],
      "execution_count": 459,
      "outputs": [
        {
          "output_type": "execute_result",
          "data": {
            "text/html": [
              "<div>\n",
              "<style scoped>\n",
              "    .dataframe tbody tr th:only-of-type {\n",
              "        vertical-align: middle;\n",
              "    }\n",
              "\n",
              "    .dataframe tbody tr th {\n",
              "        vertical-align: top;\n",
              "    }\n",
              "\n",
              "    .dataframe thead th {\n",
              "        text-align: right;\n",
              "    }\n",
              "</style>\n",
              "<table border=\"1\" class=\"dataframe\">\n",
              "  <thead>\n",
              "    <tr style=\"text-align: right;\">\n",
              "      <th></th>\n",
              "      <th>0</th>\n",
              "    </tr>\n",
              "  </thead>\n",
              "  <tbody>\n",
              "    <tr>\n",
              "      <th>0</th>\n",
              "      <td>39, State-gov, 77516, Bachelors, 13, Never-mar...</td>\n",
              "    </tr>\n",
              "    <tr>\n",
              "      <th>1</th>\n",
              "      <td>50, Self-emp-not-inc, 83311, Bachelors, 13, Ma...</td>\n",
              "    </tr>\n",
              "    <tr>\n",
              "      <th>2</th>\n",
              "      <td>38, Private, 215646, HS-grad, 9, Divorced, Han...</td>\n",
              "    </tr>\n",
              "    <tr>\n",
              "      <th>3</th>\n",
              "      <td>53, Private, 234721, 11th, 7, Married-civ-spou...</td>\n",
              "    </tr>\n",
              "    <tr>\n",
              "      <th>4</th>\n",
              "      <td>28, Private, 338409, Bachelors, 13, Married-ci...</td>\n",
              "    </tr>\n",
              "  </tbody>\n",
              "</table>\n",
              "</div>"
            ],
            "text/plain": [
              "                                                   0\n",
              "0  39, State-gov, 77516, Bachelors, 13, Never-mar...\n",
              "1  50, Self-emp-not-inc, 83311, Bachelors, 13, Ma...\n",
              "2  38, Private, 215646, HS-grad, 9, Divorced, Han...\n",
              "3  53, Private, 234721, 11th, 7, Married-civ-spou...\n",
              "4  28, Private, 338409, Bachelors, 13, Married-ci..."
            ]
          },
          "metadata": {
            "tags": []
          },
          "execution_count": 459
        }
      ]
    },
    {
      "cell_type": "code",
      "metadata": {
        "id": "D7rIovVn7hmC",
        "colab_type": "code",
        "colab": {}
      },
      "source": [
        "dd=dd[0].str.split('\\s+',expand=True)"
      ],
      "execution_count": 0,
      "outputs": []
    },
    {
      "cell_type": "code",
      "metadata": {
        "id": "A2ZX4APA7hmM",
        "colab_type": "code",
        "colab": {}
      },
      "source": [
        "df1=df[0].str.split('\\s+',expand=True)"
      ],
      "execution_count": 0,
      "outputs": []
    },
    {
      "cell_type": "code",
      "metadata": {
        "id": "5FXcTVxP7hmY",
        "colab_type": "code",
        "colab": {
          "base_uri": "https://localhost:8080/",
          "height": 204
        },
        "outputId": "7b26affa-b62f-4527-bbf3-f17c9d665123"
      },
      "source": [
        "df1.head()"
      ],
      "execution_count": 462,
      "outputs": [
        {
          "output_type": "execute_result",
          "data": {
            "text/html": [
              "<div>\n",
              "<style scoped>\n",
              "    .dataframe tbody tr th:only-of-type {\n",
              "        vertical-align: middle;\n",
              "    }\n",
              "\n",
              "    .dataframe tbody tr th {\n",
              "        vertical-align: top;\n",
              "    }\n",
              "\n",
              "    .dataframe thead th {\n",
              "        text-align: right;\n",
              "    }\n",
              "</style>\n",
              "<table border=\"1\" class=\"dataframe\">\n",
              "  <thead>\n",
              "    <tr style=\"text-align: right;\">\n",
              "      <th></th>\n",
              "      <th>0</th>\n",
              "      <th>1</th>\n",
              "      <th>2</th>\n",
              "      <th>3</th>\n",
              "      <th>4</th>\n",
              "      <th>5</th>\n",
              "      <th>6</th>\n",
              "      <th>7</th>\n",
              "      <th>8</th>\n",
              "      <th>9</th>\n",
              "      <th>10</th>\n",
              "      <th>11</th>\n",
              "      <th>12</th>\n",
              "      <th>13</th>\n",
              "      <th>14</th>\n",
              "    </tr>\n",
              "  </thead>\n",
              "  <tbody>\n",
              "    <tr>\n",
              "      <th>0</th>\n",
              "      <td>39,</td>\n",
              "      <td>State-gov,</td>\n",
              "      <td>77516,</td>\n",
              "      <td>Bachelors,</td>\n",
              "      <td>13,</td>\n",
              "      <td>Never-married,</td>\n",
              "      <td>Adm-clerical,</td>\n",
              "      <td>Not-in-family,</td>\n",
              "      <td>White,</td>\n",
              "      <td>Male,</td>\n",
              "      <td>2174,</td>\n",
              "      <td>0,</td>\n",
              "      <td>40,</td>\n",
              "      <td>United-States,</td>\n",
              "      <td>&lt;=50K</td>\n",
              "    </tr>\n",
              "    <tr>\n",
              "      <th>1</th>\n",
              "      <td>50,</td>\n",
              "      <td>Self-emp-not-inc,</td>\n",
              "      <td>83311,</td>\n",
              "      <td>Bachelors,</td>\n",
              "      <td>13,</td>\n",
              "      <td>Married-civ-spouse,</td>\n",
              "      <td>Exec-managerial,</td>\n",
              "      <td>Husband,</td>\n",
              "      <td>White,</td>\n",
              "      <td>Male,</td>\n",
              "      <td>0,</td>\n",
              "      <td>0,</td>\n",
              "      <td>13,</td>\n",
              "      <td>United-States,</td>\n",
              "      <td>&lt;=50K</td>\n",
              "    </tr>\n",
              "    <tr>\n",
              "      <th>2</th>\n",
              "      <td>38,</td>\n",
              "      <td>Private,</td>\n",
              "      <td>215646,</td>\n",
              "      <td>HS-grad,</td>\n",
              "      <td>9,</td>\n",
              "      <td>Divorced,</td>\n",
              "      <td>Handlers-cleaners,</td>\n",
              "      <td>Not-in-family,</td>\n",
              "      <td>White,</td>\n",
              "      <td>Male,</td>\n",
              "      <td>0,</td>\n",
              "      <td>0,</td>\n",
              "      <td>40,</td>\n",
              "      <td>United-States,</td>\n",
              "      <td>&lt;=50K</td>\n",
              "    </tr>\n",
              "    <tr>\n",
              "      <th>3</th>\n",
              "      <td>53,</td>\n",
              "      <td>Private,</td>\n",
              "      <td>234721,</td>\n",
              "      <td>11th,</td>\n",
              "      <td>7,</td>\n",
              "      <td>Married-civ-spouse,</td>\n",
              "      <td>Handlers-cleaners,</td>\n",
              "      <td>Husband,</td>\n",
              "      <td>Black,</td>\n",
              "      <td>Male,</td>\n",
              "      <td>0,</td>\n",
              "      <td>0,</td>\n",
              "      <td>40,</td>\n",
              "      <td>United-States,</td>\n",
              "      <td>&lt;=50K</td>\n",
              "    </tr>\n",
              "    <tr>\n",
              "      <th>4</th>\n",
              "      <td>28,</td>\n",
              "      <td>Private,</td>\n",
              "      <td>338409,</td>\n",
              "      <td>Bachelors,</td>\n",
              "      <td>13,</td>\n",
              "      <td>Married-civ-spouse,</td>\n",
              "      <td>Prof-specialty,</td>\n",
              "      <td>Wife,</td>\n",
              "      <td>Black,</td>\n",
              "      <td>Female,</td>\n",
              "      <td>0,</td>\n",
              "      <td>0,</td>\n",
              "      <td>40,</td>\n",
              "      <td>Cuba,</td>\n",
              "      <td>&lt;=50K</td>\n",
              "    </tr>\n",
              "  </tbody>\n",
              "</table>\n",
              "</div>"
            ],
            "text/plain": [
              "    0                  1        2           3   ...  11   12              13     14\n",
              "0  39,         State-gov,   77516,  Bachelors,  ...  0,  40,  United-States,  <=50K\n",
              "1  50,  Self-emp-not-inc,   83311,  Bachelors,  ...  0,  13,  United-States,  <=50K\n",
              "2  38,           Private,  215646,    HS-grad,  ...  0,  40,  United-States,  <=50K\n",
              "3  53,           Private,  234721,       11th,  ...  0,  40,  United-States,  <=50K\n",
              "4  28,           Private,  338409,  Bachelors,  ...  0,  40,           Cuba,  <=50K\n",
              "\n",
              "[5 rows x 15 columns]"
            ]
          },
          "metadata": {
            "tags": []
          },
          "execution_count": 462
        }
      ]
    },
    {
      "cell_type": "code",
      "metadata": {
        "id": "uCXeNDp27hmi",
        "colab_type": "code",
        "colab": {
          "base_uri": "https://localhost:8080/",
          "height": 204
        },
        "outputId": "cca94ea7-7c66-4b0b-b473-6331f9fc0de2"
      },
      "source": [
        "dd.head()"
      ],
      "execution_count": 463,
      "outputs": [
        {
          "output_type": "execute_result",
          "data": {
            "text/html": [
              "<div>\n",
              "<style scoped>\n",
              "    .dataframe tbody tr th:only-of-type {\n",
              "        vertical-align: middle;\n",
              "    }\n",
              "\n",
              "    .dataframe tbody tr th {\n",
              "        vertical-align: top;\n",
              "    }\n",
              "\n",
              "    .dataframe thead th {\n",
              "        text-align: right;\n",
              "    }\n",
              "</style>\n",
              "<table border=\"1\" class=\"dataframe\">\n",
              "  <thead>\n",
              "    <tr style=\"text-align: right;\">\n",
              "      <th></th>\n",
              "      <th>0</th>\n",
              "      <th>1</th>\n",
              "      <th>2</th>\n",
              "      <th>3</th>\n",
              "      <th>4</th>\n",
              "      <th>5</th>\n",
              "      <th>6</th>\n",
              "      <th>7</th>\n",
              "      <th>8</th>\n",
              "      <th>9</th>\n",
              "      <th>10</th>\n",
              "      <th>11</th>\n",
              "      <th>12</th>\n",
              "      <th>13</th>\n",
              "      <th>14</th>\n",
              "    </tr>\n",
              "  </thead>\n",
              "  <tbody>\n",
              "    <tr>\n",
              "      <th>0</th>\n",
              "      <td>|1x3</td>\n",
              "      <td>Cross</td>\n",
              "      <td>validator</td>\n",
              "      <td>None</td>\n",
              "      <td>None</td>\n",
              "      <td>None</td>\n",
              "      <td>None</td>\n",
              "      <td>None</td>\n",
              "      <td>None</td>\n",
              "      <td>None</td>\n",
              "      <td>None</td>\n",
              "      <td>None</td>\n",
              "      <td>None</td>\n",
              "      <td>None</td>\n",
              "      <td>None</td>\n",
              "    </tr>\n",
              "    <tr>\n",
              "      <th>1</th>\n",
              "      <td>25,</td>\n",
              "      <td>Private,</td>\n",
              "      <td>226802,</td>\n",
              "      <td>11th,</td>\n",
              "      <td>7,</td>\n",
              "      <td>Never-married,</td>\n",
              "      <td>Machine-op-inspct,</td>\n",
              "      <td>Own-child,</td>\n",
              "      <td>Black,</td>\n",
              "      <td>Male,</td>\n",
              "      <td>0,</td>\n",
              "      <td>0,</td>\n",
              "      <td>40,</td>\n",
              "      <td>United-States,</td>\n",
              "      <td>&lt;=50K.</td>\n",
              "    </tr>\n",
              "    <tr>\n",
              "      <th>2</th>\n",
              "      <td>38,</td>\n",
              "      <td>Private,</td>\n",
              "      <td>89814,</td>\n",
              "      <td>HS-grad,</td>\n",
              "      <td>9,</td>\n",
              "      <td>Married-civ-spouse,</td>\n",
              "      <td>Farming-fishing,</td>\n",
              "      <td>Husband,</td>\n",
              "      <td>White,</td>\n",
              "      <td>Male,</td>\n",
              "      <td>0,</td>\n",
              "      <td>0,</td>\n",
              "      <td>50,</td>\n",
              "      <td>United-States,</td>\n",
              "      <td>&lt;=50K.</td>\n",
              "    </tr>\n",
              "    <tr>\n",
              "      <th>3</th>\n",
              "      <td>28,</td>\n",
              "      <td>Local-gov,</td>\n",
              "      <td>336951,</td>\n",
              "      <td>Assoc-acdm,</td>\n",
              "      <td>12,</td>\n",
              "      <td>Married-civ-spouse,</td>\n",
              "      <td>Protective-serv,</td>\n",
              "      <td>Husband,</td>\n",
              "      <td>White,</td>\n",
              "      <td>Male,</td>\n",
              "      <td>0,</td>\n",
              "      <td>0,</td>\n",
              "      <td>40,</td>\n",
              "      <td>United-States,</td>\n",
              "      <td>&gt;50K.</td>\n",
              "    </tr>\n",
              "    <tr>\n",
              "      <th>4</th>\n",
              "      <td>44,</td>\n",
              "      <td>Private,</td>\n",
              "      <td>160323,</td>\n",
              "      <td>Some-college,</td>\n",
              "      <td>10,</td>\n",
              "      <td>Married-civ-spouse,</td>\n",
              "      <td>Machine-op-inspct,</td>\n",
              "      <td>Husband,</td>\n",
              "      <td>Black,</td>\n",
              "      <td>Male,</td>\n",
              "      <td>7688,</td>\n",
              "      <td>0,</td>\n",
              "      <td>40,</td>\n",
              "      <td>United-States,</td>\n",
              "      <td>&gt;50K.</td>\n",
              "    </tr>\n",
              "  </tbody>\n",
              "</table>\n",
              "</div>"
            ],
            "text/plain": [
              "     0           1          2   ...    12              13      14\n",
              "0  |1x3       Cross  validator  ...  None            None    None\n",
              "1   25,    Private,    226802,  ...   40,  United-States,  <=50K.\n",
              "2   38,    Private,     89814,  ...   50,  United-States,  <=50K.\n",
              "3   28,  Local-gov,    336951,  ...   40,  United-States,   >50K.\n",
              "4   44,    Private,    160323,  ...   40,  United-States,   >50K.\n",
              "\n",
              "[5 rows x 15 columns]"
            ]
          },
          "metadata": {
            "tags": []
          },
          "execution_count": 463
        }
      ]
    },
    {
      "cell_type": "code",
      "metadata": {
        "id": "51mCHkmA7hmy",
        "colab_type": "code",
        "colab": {}
      },
      "source": [
        "dd.drop([0],axis=0,inplace=True)"
      ],
      "execution_count": 0,
      "outputs": []
    },
    {
      "cell_type": "code",
      "metadata": {
        "id": "u9k72nA57hm5",
        "colab_type": "code",
        "colab": {}
      },
      "source": [
        "cols=['age','working-class','fnlwgt','education','education-num','marital-status','occupation','relationship','race','sex','capital-gain','capital-loss','hours-per-week','native-country','Income']"
      ],
      "execution_count": 0,
      "outputs": []
    },
    {
      "cell_type": "code",
      "metadata": {
        "id": "6PlTeM-W7hm-",
        "colab_type": "code",
        "colab": {}
      },
      "source": [
        "dd.columns=cols"
      ],
      "execution_count": 0,
      "outputs": []
    },
    {
      "cell_type": "code",
      "metadata": {
        "id": "SzFsxkeH7hnD",
        "colab_type": "code",
        "colab": {}
      },
      "source": [
        "df1.columns=cols"
      ],
      "execution_count": 0,
      "outputs": []
    },
    {
      "cell_type": "code",
      "metadata": {
        "id": "7j7DZKBz7hnK",
        "colab_type": "code",
        "colab": {
          "base_uri": "https://localhost:8080/",
          "height": 306
        },
        "outputId": "d392d939-9829-4520-c81d-6f0b85b652cb"
      },
      "source": [
        "df1.head()"
      ],
      "execution_count": 468,
      "outputs": [
        {
          "output_type": "execute_result",
          "data": {
            "text/html": [
              "<div>\n",
              "<style scoped>\n",
              "    .dataframe tbody tr th:only-of-type {\n",
              "        vertical-align: middle;\n",
              "    }\n",
              "\n",
              "    .dataframe tbody tr th {\n",
              "        vertical-align: top;\n",
              "    }\n",
              "\n",
              "    .dataframe thead th {\n",
              "        text-align: right;\n",
              "    }\n",
              "</style>\n",
              "<table border=\"1\" class=\"dataframe\">\n",
              "  <thead>\n",
              "    <tr style=\"text-align: right;\">\n",
              "      <th></th>\n",
              "      <th>age</th>\n",
              "      <th>working-class</th>\n",
              "      <th>fnlwgt</th>\n",
              "      <th>education</th>\n",
              "      <th>education-num</th>\n",
              "      <th>marital-status</th>\n",
              "      <th>occupation</th>\n",
              "      <th>relationship</th>\n",
              "      <th>race</th>\n",
              "      <th>sex</th>\n",
              "      <th>capital-gain</th>\n",
              "      <th>capital-loss</th>\n",
              "      <th>hours-per-week</th>\n",
              "      <th>native-country</th>\n",
              "      <th>Income</th>\n",
              "    </tr>\n",
              "  </thead>\n",
              "  <tbody>\n",
              "    <tr>\n",
              "      <th>0</th>\n",
              "      <td>39,</td>\n",
              "      <td>State-gov,</td>\n",
              "      <td>77516,</td>\n",
              "      <td>Bachelors,</td>\n",
              "      <td>13,</td>\n",
              "      <td>Never-married,</td>\n",
              "      <td>Adm-clerical,</td>\n",
              "      <td>Not-in-family,</td>\n",
              "      <td>White,</td>\n",
              "      <td>Male,</td>\n",
              "      <td>2174,</td>\n",
              "      <td>0,</td>\n",
              "      <td>40,</td>\n",
              "      <td>United-States,</td>\n",
              "      <td>&lt;=50K</td>\n",
              "    </tr>\n",
              "    <tr>\n",
              "      <th>1</th>\n",
              "      <td>50,</td>\n",
              "      <td>Self-emp-not-inc,</td>\n",
              "      <td>83311,</td>\n",
              "      <td>Bachelors,</td>\n",
              "      <td>13,</td>\n",
              "      <td>Married-civ-spouse,</td>\n",
              "      <td>Exec-managerial,</td>\n",
              "      <td>Husband,</td>\n",
              "      <td>White,</td>\n",
              "      <td>Male,</td>\n",
              "      <td>0,</td>\n",
              "      <td>0,</td>\n",
              "      <td>13,</td>\n",
              "      <td>United-States,</td>\n",
              "      <td>&lt;=50K</td>\n",
              "    </tr>\n",
              "    <tr>\n",
              "      <th>2</th>\n",
              "      <td>38,</td>\n",
              "      <td>Private,</td>\n",
              "      <td>215646,</td>\n",
              "      <td>HS-grad,</td>\n",
              "      <td>9,</td>\n",
              "      <td>Divorced,</td>\n",
              "      <td>Handlers-cleaners,</td>\n",
              "      <td>Not-in-family,</td>\n",
              "      <td>White,</td>\n",
              "      <td>Male,</td>\n",
              "      <td>0,</td>\n",
              "      <td>0,</td>\n",
              "      <td>40,</td>\n",
              "      <td>United-States,</td>\n",
              "      <td>&lt;=50K</td>\n",
              "    </tr>\n",
              "    <tr>\n",
              "      <th>3</th>\n",
              "      <td>53,</td>\n",
              "      <td>Private,</td>\n",
              "      <td>234721,</td>\n",
              "      <td>11th,</td>\n",
              "      <td>7,</td>\n",
              "      <td>Married-civ-spouse,</td>\n",
              "      <td>Handlers-cleaners,</td>\n",
              "      <td>Husband,</td>\n",
              "      <td>Black,</td>\n",
              "      <td>Male,</td>\n",
              "      <td>0,</td>\n",
              "      <td>0,</td>\n",
              "      <td>40,</td>\n",
              "      <td>United-States,</td>\n",
              "      <td>&lt;=50K</td>\n",
              "    </tr>\n",
              "    <tr>\n",
              "      <th>4</th>\n",
              "      <td>28,</td>\n",
              "      <td>Private,</td>\n",
              "      <td>338409,</td>\n",
              "      <td>Bachelors,</td>\n",
              "      <td>13,</td>\n",
              "      <td>Married-civ-spouse,</td>\n",
              "      <td>Prof-specialty,</td>\n",
              "      <td>Wife,</td>\n",
              "      <td>Black,</td>\n",
              "      <td>Female,</td>\n",
              "      <td>0,</td>\n",
              "      <td>0,</td>\n",
              "      <td>40,</td>\n",
              "      <td>Cuba,</td>\n",
              "      <td>&lt;=50K</td>\n",
              "    </tr>\n",
              "  </tbody>\n",
              "</table>\n",
              "</div>"
            ],
            "text/plain": [
              "   age      working-class   fnlwgt  ... hours-per-week  native-country Income\n",
              "0  39,         State-gov,   77516,  ...            40,  United-States,  <=50K\n",
              "1  50,  Self-emp-not-inc,   83311,  ...            13,  United-States,  <=50K\n",
              "2  38,           Private,  215646,  ...            40,  United-States,  <=50K\n",
              "3  53,           Private,  234721,  ...            40,  United-States,  <=50K\n",
              "4  28,           Private,  338409,  ...            40,           Cuba,  <=50K\n",
              "\n",
              "[5 rows x 15 columns]"
            ]
          },
          "metadata": {
            "tags": []
          },
          "execution_count": 468
        }
      ]
    },
    {
      "cell_type": "code",
      "metadata": {
        "id": "Tp5xvuBF7hnR",
        "colab_type": "code",
        "colab": {
          "base_uri": "https://localhost:8080/",
          "height": 306
        },
        "outputId": "fd29dc59-29e4-421c-a830-b86b4f9bb42b"
      },
      "source": [
        "dd.head()"
      ],
      "execution_count": 469,
      "outputs": [
        {
          "output_type": "execute_result",
          "data": {
            "text/html": [
              "<div>\n",
              "<style scoped>\n",
              "    .dataframe tbody tr th:only-of-type {\n",
              "        vertical-align: middle;\n",
              "    }\n",
              "\n",
              "    .dataframe tbody tr th {\n",
              "        vertical-align: top;\n",
              "    }\n",
              "\n",
              "    .dataframe thead th {\n",
              "        text-align: right;\n",
              "    }\n",
              "</style>\n",
              "<table border=\"1\" class=\"dataframe\">\n",
              "  <thead>\n",
              "    <tr style=\"text-align: right;\">\n",
              "      <th></th>\n",
              "      <th>age</th>\n",
              "      <th>working-class</th>\n",
              "      <th>fnlwgt</th>\n",
              "      <th>education</th>\n",
              "      <th>education-num</th>\n",
              "      <th>marital-status</th>\n",
              "      <th>occupation</th>\n",
              "      <th>relationship</th>\n",
              "      <th>race</th>\n",
              "      <th>sex</th>\n",
              "      <th>capital-gain</th>\n",
              "      <th>capital-loss</th>\n",
              "      <th>hours-per-week</th>\n",
              "      <th>native-country</th>\n",
              "      <th>Income</th>\n",
              "    </tr>\n",
              "  </thead>\n",
              "  <tbody>\n",
              "    <tr>\n",
              "      <th>1</th>\n",
              "      <td>25,</td>\n",
              "      <td>Private,</td>\n",
              "      <td>226802,</td>\n",
              "      <td>11th,</td>\n",
              "      <td>7,</td>\n",
              "      <td>Never-married,</td>\n",
              "      <td>Machine-op-inspct,</td>\n",
              "      <td>Own-child,</td>\n",
              "      <td>Black,</td>\n",
              "      <td>Male,</td>\n",
              "      <td>0,</td>\n",
              "      <td>0,</td>\n",
              "      <td>40,</td>\n",
              "      <td>United-States,</td>\n",
              "      <td>&lt;=50K.</td>\n",
              "    </tr>\n",
              "    <tr>\n",
              "      <th>2</th>\n",
              "      <td>38,</td>\n",
              "      <td>Private,</td>\n",
              "      <td>89814,</td>\n",
              "      <td>HS-grad,</td>\n",
              "      <td>9,</td>\n",
              "      <td>Married-civ-spouse,</td>\n",
              "      <td>Farming-fishing,</td>\n",
              "      <td>Husband,</td>\n",
              "      <td>White,</td>\n",
              "      <td>Male,</td>\n",
              "      <td>0,</td>\n",
              "      <td>0,</td>\n",
              "      <td>50,</td>\n",
              "      <td>United-States,</td>\n",
              "      <td>&lt;=50K.</td>\n",
              "    </tr>\n",
              "    <tr>\n",
              "      <th>3</th>\n",
              "      <td>28,</td>\n",
              "      <td>Local-gov,</td>\n",
              "      <td>336951,</td>\n",
              "      <td>Assoc-acdm,</td>\n",
              "      <td>12,</td>\n",
              "      <td>Married-civ-spouse,</td>\n",
              "      <td>Protective-serv,</td>\n",
              "      <td>Husband,</td>\n",
              "      <td>White,</td>\n",
              "      <td>Male,</td>\n",
              "      <td>0,</td>\n",
              "      <td>0,</td>\n",
              "      <td>40,</td>\n",
              "      <td>United-States,</td>\n",
              "      <td>&gt;50K.</td>\n",
              "    </tr>\n",
              "    <tr>\n",
              "      <th>4</th>\n",
              "      <td>44,</td>\n",
              "      <td>Private,</td>\n",
              "      <td>160323,</td>\n",
              "      <td>Some-college,</td>\n",
              "      <td>10,</td>\n",
              "      <td>Married-civ-spouse,</td>\n",
              "      <td>Machine-op-inspct,</td>\n",
              "      <td>Husband,</td>\n",
              "      <td>Black,</td>\n",
              "      <td>Male,</td>\n",
              "      <td>7688,</td>\n",
              "      <td>0,</td>\n",
              "      <td>40,</td>\n",
              "      <td>United-States,</td>\n",
              "      <td>&gt;50K.</td>\n",
              "    </tr>\n",
              "    <tr>\n",
              "      <th>5</th>\n",
              "      <td>18,</td>\n",
              "      <td>?,</td>\n",
              "      <td>103497,</td>\n",
              "      <td>Some-college,</td>\n",
              "      <td>10,</td>\n",
              "      <td>Never-married,</td>\n",
              "      <td>?,</td>\n",
              "      <td>Own-child,</td>\n",
              "      <td>White,</td>\n",
              "      <td>Female,</td>\n",
              "      <td>0,</td>\n",
              "      <td>0,</td>\n",
              "      <td>30,</td>\n",
              "      <td>United-States,</td>\n",
              "      <td>&lt;=50K.</td>\n",
              "    </tr>\n",
              "  </tbody>\n",
              "</table>\n",
              "</div>"
            ],
            "text/plain": [
              "   age working-class   fnlwgt  ... hours-per-week  native-country  Income\n",
              "1  25,      Private,  226802,  ...            40,  United-States,  <=50K.\n",
              "2  38,      Private,   89814,  ...            50,  United-States,  <=50K.\n",
              "3  28,    Local-gov,  336951,  ...            40,  United-States,   >50K.\n",
              "4  44,      Private,  160323,  ...            40,  United-States,   >50K.\n",
              "5  18,            ?,  103497,  ...            30,  United-States,  <=50K.\n",
              "\n",
              "[5 rows x 15 columns]"
            ]
          },
          "metadata": {
            "tags": []
          },
          "execution_count": 469
        }
      ]
    },
    {
      "cell_type": "code",
      "metadata": {
        "id": "vi63h-OW7hnX",
        "colab_type": "code",
        "colab": {}
      },
      "source": [
        "dd.reset_index(inplace=True,drop=True)"
      ],
      "execution_count": 0,
      "outputs": []
    },
    {
      "cell_type": "markdown",
      "metadata": {
        "id": "Kmp3CrKy7hnd",
        "colab_type": "text"
      },
      "source": [
        "# Typecasting"
      ]
    },
    {
      "cell_type": "code",
      "metadata": {
        "id": "eM7t6sLn7hnf",
        "colab_type": "code",
        "colab": {}
      },
      "source": [
        "df1['age']=df1['age'].str.replace(',','')"
      ],
      "execution_count": 0,
      "outputs": []
    },
    {
      "cell_type": "code",
      "metadata": {
        "id": "rp1iyRZT7hnj",
        "colab_type": "code",
        "colab": {}
      },
      "source": [
        "dd['age']=dd['age'].str.replace(',','')"
      ],
      "execution_count": 0,
      "outputs": []
    },
    {
      "cell_type": "code",
      "metadata": {
        "id": "WiJ3ISn47hnn",
        "colab_type": "code",
        "colab": {}
      },
      "source": [
        "df1['age']=df1.age.astype('int')\n",
        "dd['age']=dd.age.astype('int')"
      ],
      "execution_count": 0,
      "outputs": []
    },
    {
      "cell_type": "code",
      "metadata": {
        "id": "TTMeI6WV7hns",
        "colab_type": "code",
        "colab": {
          "base_uri": "https://localhost:8080/",
          "height": 51
        },
        "outputId": "11caf94e-3368-4097-c3ef-a152e68b17dc"
      },
      "source": [
        "print(df1.age.dtype)\n",
        "print(dd.age.dtype)"
      ],
      "execution_count": 474,
      "outputs": [
        {
          "output_type": "stream",
          "text": [
            "int64\n",
            "int64\n"
          ],
          "name": "stdout"
        }
      ]
    },
    {
      "cell_type": "code",
      "metadata": {
        "id": "qoYHZTEa7hnz",
        "colab_type": "code",
        "colab": {}
      },
      "source": [
        "df1['fnlwgt']=df1['fnlwgt'].str.replace(',','')\n",
        "df1['fnlwgt']=df1['fnlwgt'].astype('float')"
      ],
      "execution_count": 0,
      "outputs": []
    },
    {
      "cell_type": "code",
      "metadata": {
        "id": "WIU_MP_q7hn7",
        "colab_type": "code",
        "colab": {}
      },
      "source": [
        "dd['fnlwgt']=dd['fnlwgt'].str.replace(',','')\n",
        "dd['fnlwgt']=dd['fnlwgt'].astype('float')"
      ],
      "execution_count": 0,
      "outputs": []
    },
    {
      "cell_type": "code",
      "metadata": {
        "id": "gPKviN7r7hoC",
        "colab_type": "code",
        "colab": {}
      },
      "source": [
        "df1['education-num']=df1['education-num'].str.replace(',','')\n",
        "df1['education-num']=df1['education-num'].astype('float')"
      ],
      "execution_count": 0,
      "outputs": []
    },
    {
      "cell_type": "code",
      "metadata": {
        "id": "t3ZpUsp17hoM",
        "colab_type": "code",
        "colab": {}
      },
      "source": [
        "dd['education-num']=dd['education-num'].str.replace(',','')\n",
        "dd['education-num']=dd['education-num'].astype('float')"
      ],
      "execution_count": 0,
      "outputs": []
    },
    {
      "cell_type": "code",
      "metadata": {
        "id": "MGBhKGoW7hoQ",
        "colab_type": "code",
        "colab": {}
      },
      "source": [
        "df1['capital-gain']=df1['capital-gain'].str.replace(',','')\n",
        "df1['capital-gain']=df1['capital-gain'].astype('float')"
      ],
      "execution_count": 0,
      "outputs": []
    },
    {
      "cell_type": "code",
      "metadata": {
        "id": "ugonDvM87hoU",
        "colab_type": "code",
        "colab": {}
      },
      "source": [
        "\n",
        "\n",
        "dd['capital-gain']=dd['capital-gain'].str.replace(',','')\n",
        "dd['capital-gain']=dd['capital-gain'].astype('float')"
      ],
      "execution_count": 0,
      "outputs": []
    },
    {
      "cell_type": "code",
      "metadata": {
        "id": "it34CCVg7hoZ",
        "colab_type": "code",
        "colab": {}
      },
      "source": [
        "df1['capital-loss']=df1['capital-loss'].str.replace(',','')\n",
        "df1['capital-loss']=df1['capital-loss'].astype('float')"
      ],
      "execution_count": 0,
      "outputs": []
    },
    {
      "cell_type": "code",
      "metadata": {
        "id": "BQrtelS97hoe",
        "colab_type": "code",
        "colab": {}
      },
      "source": [
        "\n",
        "dd['capital-loss']=dd['capital-loss'].str.replace(',','')\n",
        "dd['capital-loss']=dd['capital-loss'].astype('float')"
      ],
      "execution_count": 0,
      "outputs": []
    },
    {
      "cell_type": "code",
      "metadata": {
        "id": "3qLalaxv7hom",
        "colab_type": "code",
        "colab": {}
      },
      "source": [
        "df1['hours-per-week']=df1['hours-per-week'].str.replace(',','')\n",
        "df1['hours-per-week']=df1['hours-per-week'].astype('float')"
      ],
      "execution_count": 0,
      "outputs": []
    },
    {
      "cell_type": "code",
      "metadata": {
        "id": "t5Z87YX-7hop",
        "colab_type": "code",
        "colab": {}
      },
      "source": [
        "dd['hours-per-week']=dd['hours-per-week'].str.replace(',','')\n",
        "dd['hours-per-week']=dd['hours-per-week'].astype('float')"
      ],
      "execution_count": 0,
      "outputs": []
    },
    {
      "cell_type": "code",
      "metadata": {
        "id": "xTm8AexK7hou",
        "colab_type": "code",
        "colab": {
          "base_uri": "https://localhost:8080/",
          "height": 357
        },
        "outputId": "1fa39015-111d-4975-b3f2-11288801254d"
      },
      "source": [
        "\n",
        "\n",
        "df1.info()"
      ],
      "execution_count": 485,
      "outputs": [
        {
          "output_type": "stream",
          "text": [
            "<class 'pandas.core.frame.DataFrame'>\n",
            "RangeIndex: 32561 entries, 0 to 32560\n",
            "Data columns (total 15 columns):\n",
            "age               32561 non-null int64\n",
            "working-class     32561 non-null object\n",
            "fnlwgt            32561 non-null float64\n",
            "education         32561 non-null object\n",
            "education-num     32561 non-null float64\n",
            "marital-status    32561 non-null object\n",
            "occupation        32561 non-null object\n",
            "relationship      32561 non-null object\n",
            "race              32561 non-null object\n",
            "sex               32561 non-null object\n",
            "capital-gain      32561 non-null float64\n",
            "capital-loss      32561 non-null float64\n",
            "hours-per-week    32561 non-null float64\n",
            "native-country    32561 non-null object\n",
            "Income            32561 non-null object\n",
            "dtypes: float64(5), int64(1), object(9)\n",
            "memory usage: 3.7+ MB\n"
          ],
          "name": "stdout"
        }
      ]
    },
    {
      "cell_type": "code",
      "metadata": {
        "id": "wEbos83x7ho0",
        "colab_type": "code",
        "colab": {
          "base_uri": "https://localhost:8080/",
          "height": 357
        },
        "outputId": "3f8c17dc-9f5c-4dff-edb9-58e7c5c37f1d"
      },
      "source": [
        "dd.info()"
      ],
      "execution_count": 486,
      "outputs": [
        {
          "output_type": "stream",
          "text": [
            "<class 'pandas.core.frame.DataFrame'>\n",
            "RangeIndex: 16281 entries, 0 to 16280\n",
            "Data columns (total 15 columns):\n",
            "age               16281 non-null int64\n",
            "working-class     16281 non-null object\n",
            "fnlwgt            16281 non-null float64\n",
            "education         16281 non-null object\n",
            "education-num     16281 non-null float64\n",
            "marital-status    16281 non-null object\n",
            "occupation        16281 non-null object\n",
            "relationship      16281 non-null object\n",
            "race              16281 non-null object\n",
            "sex               16281 non-null object\n",
            "capital-gain      16281 non-null float64\n",
            "capital-loss      16281 non-null float64\n",
            "hours-per-week    16281 non-null float64\n",
            "native-country    16281 non-null object\n",
            "Income            16281 non-null object\n",
            "dtypes: float64(5), int64(1), object(9)\n",
            "memory usage: 1.9+ MB\n"
          ],
          "name": "stdout"
        }
      ]
    },
    {
      "cell_type": "code",
      "metadata": {
        "id": "d0YF4KlT7ho4",
        "colab_type": "code",
        "colab": {
          "base_uri": "https://localhost:8080/",
          "height": 297
        },
        "outputId": "ded9adde-b2e7-4ab3-88ef-98f321eda30c"
      },
      "source": [
        "\n",
        "df1.describe()"
      ],
      "execution_count": 487,
      "outputs": [
        {
          "output_type": "execute_result",
          "data": {
            "text/html": [
              "<div>\n",
              "<style scoped>\n",
              "    .dataframe tbody tr th:only-of-type {\n",
              "        vertical-align: middle;\n",
              "    }\n",
              "\n",
              "    .dataframe tbody tr th {\n",
              "        vertical-align: top;\n",
              "    }\n",
              "\n",
              "    .dataframe thead th {\n",
              "        text-align: right;\n",
              "    }\n",
              "</style>\n",
              "<table border=\"1\" class=\"dataframe\">\n",
              "  <thead>\n",
              "    <tr style=\"text-align: right;\">\n",
              "      <th></th>\n",
              "      <th>age</th>\n",
              "      <th>fnlwgt</th>\n",
              "      <th>education-num</th>\n",
              "      <th>capital-gain</th>\n",
              "      <th>capital-loss</th>\n",
              "      <th>hours-per-week</th>\n",
              "    </tr>\n",
              "  </thead>\n",
              "  <tbody>\n",
              "    <tr>\n",
              "      <th>count</th>\n",
              "      <td>32561.000000</td>\n",
              "      <td>3.256100e+04</td>\n",
              "      <td>32561.000000</td>\n",
              "      <td>32561.000000</td>\n",
              "      <td>32561.000000</td>\n",
              "      <td>32561.000000</td>\n",
              "    </tr>\n",
              "    <tr>\n",
              "      <th>mean</th>\n",
              "      <td>38.581647</td>\n",
              "      <td>1.897784e+05</td>\n",
              "      <td>10.080679</td>\n",
              "      <td>1077.648844</td>\n",
              "      <td>87.303830</td>\n",
              "      <td>40.437456</td>\n",
              "    </tr>\n",
              "    <tr>\n",
              "      <th>std</th>\n",
              "      <td>13.640433</td>\n",
              "      <td>1.055500e+05</td>\n",
              "      <td>2.572720</td>\n",
              "      <td>7385.292085</td>\n",
              "      <td>402.960219</td>\n",
              "      <td>12.347429</td>\n",
              "    </tr>\n",
              "    <tr>\n",
              "      <th>min</th>\n",
              "      <td>17.000000</td>\n",
              "      <td>1.228500e+04</td>\n",
              "      <td>1.000000</td>\n",
              "      <td>0.000000</td>\n",
              "      <td>0.000000</td>\n",
              "      <td>1.000000</td>\n",
              "    </tr>\n",
              "    <tr>\n",
              "      <th>25%</th>\n",
              "      <td>28.000000</td>\n",
              "      <td>1.178270e+05</td>\n",
              "      <td>9.000000</td>\n",
              "      <td>0.000000</td>\n",
              "      <td>0.000000</td>\n",
              "      <td>40.000000</td>\n",
              "    </tr>\n",
              "    <tr>\n",
              "      <th>50%</th>\n",
              "      <td>37.000000</td>\n",
              "      <td>1.783560e+05</td>\n",
              "      <td>10.000000</td>\n",
              "      <td>0.000000</td>\n",
              "      <td>0.000000</td>\n",
              "      <td>40.000000</td>\n",
              "    </tr>\n",
              "    <tr>\n",
              "      <th>75%</th>\n",
              "      <td>48.000000</td>\n",
              "      <td>2.370510e+05</td>\n",
              "      <td>12.000000</td>\n",
              "      <td>0.000000</td>\n",
              "      <td>0.000000</td>\n",
              "      <td>45.000000</td>\n",
              "    </tr>\n",
              "    <tr>\n",
              "      <th>max</th>\n",
              "      <td>90.000000</td>\n",
              "      <td>1.484705e+06</td>\n",
              "      <td>16.000000</td>\n",
              "      <td>99999.000000</td>\n",
              "      <td>4356.000000</td>\n",
              "      <td>99.000000</td>\n",
              "    </tr>\n",
              "  </tbody>\n",
              "</table>\n",
              "</div>"
            ],
            "text/plain": [
              "                age        fnlwgt  ...  capital-loss  hours-per-week\n",
              "count  32561.000000  3.256100e+04  ...  32561.000000    32561.000000\n",
              "mean      38.581647  1.897784e+05  ...     87.303830       40.437456\n",
              "std       13.640433  1.055500e+05  ...    402.960219       12.347429\n",
              "min       17.000000  1.228500e+04  ...      0.000000        1.000000\n",
              "25%       28.000000  1.178270e+05  ...      0.000000       40.000000\n",
              "50%       37.000000  1.783560e+05  ...      0.000000       40.000000\n",
              "75%       48.000000  2.370510e+05  ...      0.000000       45.000000\n",
              "max       90.000000  1.484705e+06  ...   4356.000000       99.000000\n",
              "\n",
              "[8 rows x 6 columns]"
            ]
          },
          "metadata": {
            "tags": []
          },
          "execution_count": 487
        }
      ]
    },
    {
      "cell_type": "code",
      "metadata": {
        "id": "aJjOi4057ho9",
        "colab_type": "code",
        "colab": {}
      },
      "source": [
        "import seaborn as sns\n",
        "import matplotlib.pyplot as plt"
      ],
      "execution_count": 0,
      "outputs": []
    },
    {
      "cell_type": "markdown",
      "metadata": {
        "id": "0d1nUZ6X7hpB",
        "colab_type": "text"
      },
      "source": [
        "# Imputing Missing Values with Mode"
      ]
    },
    {
      "cell_type": "code",
      "metadata": {
        "id": "R4Bxq43a7hpC",
        "colab_type": "code",
        "colab": {
          "base_uri": "https://localhost:8080/",
          "height": 170
        },
        "outputId": "1eb566a3-cc69-43f2-b32e-56e6313d9052"
      },
      "source": [
        "for col in df1.columns:\n",
        "    if df1[col].dtype == object:\n",
        "         print(col,df1[col][df1[col] == '?,'].count()/df1[col].count()*100)"
      ],
      "execution_count": 489,
      "outputs": [
        {
          "output_type": "stream",
          "text": [
            "working-class 5.638647461687294\n",
            "education 0.0\n",
            "marital-status 0.0\n",
            "occupation 5.660145572924664\n",
            "relationship 0.0\n",
            "race 0.0\n",
            "sex 0.0\n",
            "native-country 1.7904855501980899\n",
            "Income 0.0\n"
          ],
          "name": "stdout"
        }
      ]
    },
    {
      "cell_type": "code",
      "metadata": {
        "id": "pTaKyr0R7hpH",
        "colab_type": "code",
        "colab": {
          "base_uri": "https://localhost:8080/",
          "height": 170
        },
        "outputId": "e9cdeadf-e0ca-453b-d7f9-f8cd358fbee5"
      },
      "source": [
        "for col in dd.columns:\n",
        "    if dd[col].dtype == object:\n",
        "         print(col,dd[col][dd[col] == '?,'].count()/dd[col].count()*100)"
      ],
      "execution_count": 490,
      "outputs": [
        {
          "output_type": "stream",
          "text": [
            "working-class 5.914870093974572\n",
            "education 0.0\n",
            "marital-status 0.0\n",
            "occupation 5.933296480560162\n",
            "relationship 0.0\n",
            "race 0.0\n",
            "sex 0.0\n",
            "native-country 1.6829433081506049\n",
            "Income 0.0\n"
          ],
          "name": "stdout"
        }
      ]
    },
    {
      "cell_type": "code",
      "metadata": {
        "id": "P1v3-2EN7hpL",
        "colab_type": "code",
        "colab": {
          "base_uri": "https://localhost:8080/",
          "height": 34
        },
        "outputId": "4f2990ae-ba31-43b3-a435-50a4c5a2d46d"
      },
      "source": [
        "\n",
        "df1['working-class'].mode()[0]\n",
        "dd['working-class'].mode()[0]"
      ],
      "execution_count": 491,
      "outputs": [
        {
          "output_type": "execute_result",
          "data": {
            "text/plain": [
              "'Private,'"
            ]
          },
          "metadata": {
            "tags": []
          },
          "execution_count": 491
        }
      ]
    },
    {
      "cell_type": "code",
      "metadata": {
        "id": "2WWZrur47hpQ",
        "colab_type": "code",
        "colab": {}
      },
      "source": [
        "df1['working-class'].replace('?,',df1['working-class'].mode()[0],inplace=True)\n",
        "dd['working-class'].replace('?,',dd['working-class'].mode()[0],inplace=True)"
      ],
      "execution_count": 0,
      "outputs": []
    },
    {
      "cell_type": "code",
      "metadata": {
        "id": "HdmfTWXo7hpW",
        "colab_type": "code",
        "colab": {
          "base_uri": "https://localhost:8080/",
          "height": 34
        },
        "outputId": "ea581ebe-e785-4bdc-ca27-c0990d5a870c"
      },
      "source": [
        "df1['occupation'].mode()[0]\n",
        "dd['occupation'].mode()[0]"
      ],
      "execution_count": 493,
      "outputs": [
        {
          "output_type": "execute_result",
          "data": {
            "text/plain": [
              "'Prof-specialty,'"
            ]
          },
          "metadata": {
            "tags": []
          },
          "execution_count": 493
        }
      ]
    },
    {
      "cell_type": "code",
      "metadata": {
        "id": "E3UoL-PF7hpa",
        "colab_type": "code",
        "colab": {}
      },
      "source": [
        "df1['occupation'].replace('?,',df1['occupation'].mode()[0],inplace=True)\n",
        "dd['occupation'].replace('?,',dd['occupation'].mode()[0],inplace=True)"
      ],
      "execution_count": 0,
      "outputs": []
    },
    {
      "cell_type": "code",
      "metadata": {
        "id": "GOJjO4iy7hpg",
        "colab_type": "code",
        "colab": {
          "base_uri": "https://localhost:8080/",
          "height": 34
        },
        "outputId": "48fff1be-231e-4694-8933-bbfc19b2fdb7"
      },
      "source": [
        "df1['native-country'].mode()[0]\n",
        "dd['native-country'].mode()[0]"
      ],
      "execution_count": 495,
      "outputs": [
        {
          "output_type": "execute_result",
          "data": {
            "text/plain": [
              "'United-States,'"
            ]
          },
          "metadata": {
            "tags": []
          },
          "execution_count": 495
        }
      ]
    },
    {
      "cell_type": "code",
      "metadata": {
        "id": "fg0HIlZS7hpr",
        "colab_type": "code",
        "colab": {}
      },
      "source": [
        "df1['native-country'].replace('?,',df1['native-country'].mode()[0],inplace=True)\n",
        "dd['native-country'].replace('?,',dd['native-country'].mode()[0],inplace=True)"
      ],
      "execution_count": 0,
      "outputs": []
    },
    {
      "cell_type": "markdown",
      "metadata": {
        "id": "ZcVoNM0b7hpw",
        "colab_type": "text"
      },
      "source": [
        "# Univariate Analysis"
      ]
    },
    {
      "cell_type": "code",
      "metadata": {
        "id": "Wb3g1C6R7hpy",
        "colab_type": "code",
        "colab": {
          "base_uri": "https://localhost:8080/",
          "height": 442
        },
        "outputId": "6890160e-a915-4d6a-b05c-c53091d014ed"
      },
      "source": [
        "plt.figure(1)\n",
        "plt.figure(figsize=(15,5))\n",
        "sns.countplot(df1.age)\n",
        "plt.xticks(rotation=90)\n",
        "\n"
      ],
      "execution_count": 497,
      "outputs": [
        {
          "output_type": "execute_result",
          "data": {
            "text/plain": [
              "(array([ 0,  1,  2,  3,  4,  5,  6,  7,  8,  9, 10, 11, 12, 13, 14, 15, 16,\n",
              "        17, 18, 19, 20, 21, 22, 23, 24, 25, 26, 27, 28, 29, 30, 31, 32, 33,\n",
              "        34, 35, 36, 37, 38, 39, 40, 41, 42, 43, 44, 45, 46, 47, 48, 49, 50,\n",
              "        51, 52, 53, 54, 55, 56, 57, 58, 59, 60, 61, 62, 63, 64, 65, 66, 67,\n",
              "        68, 69, 70, 71, 72]), <a list of 73 Text xticklabel objects>)"
            ]
          },
          "metadata": {
            "tags": []
          },
          "execution_count": 497
        },
        {
          "output_type": "display_data",
          "data": {
            "text/plain": [
              "<Figure size 432x288 with 0 Axes>"
            ]
          },
          "metadata": {
            "tags": []
          }
        },
        {
          "output_type": "display_data",
          "data": {
            "image/png": "[encoded data removed]",
            "text/plain": [
              "<Figure size 1080x360 with 1 Axes>"
            ]
          },
          "metadata": {
            "tags": []
          }
        }
      ]
    },
    {
      "cell_type": "code",
      "metadata": {
        "id": "YnGNBHVc7hp5",
        "colab_type": "code",
        "colab": {
          "base_uri": "https://localhost:8080/",
          "height": 442
        },
        "outputId": "f7ee209e-25d9-48be-f5d9-7b5baf885d76"
      },
      "source": [
        "plt.figure(1)\n",
        "plt.figure(figsize=(15,5))\n",
        "sns.countplot(dd.age)\n",
        "plt.xticks(rotation=90)"
      ],
      "execution_count": 498,
      "outputs": [
        {
          "output_type": "execute_result",
          "data": {
            "text/plain": [
              "(array([ 0,  1,  2,  3,  4,  5,  6,  7,  8,  9, 10, 11, 12, 13, 14, 15, 16,\n",
              "        17, 18, 19, 20, 21, 22, 23, 24, 25, 26, 27, 28, 29, 30, 31, 32, 33,\n",
              "        34, 35, 36, 37, 38, 39, 40, 41, 42, 43, 44, 45, 46, 47, 48, 49, 50,\n",
              "        51, 52, 53, 54, 55, 56, 57, 58, 59, 60, 61, 62, 63, 64, 65, 66, 67,\n",
              "        68, 69, 70, 71, 72]), <a list of 73 Text xticklabel objects>)"
            ]
          },
          "metadata": {
            "tags": []
          },
          "execution_count": 498
        },
        {
          "output_type": "display_data",
          "data": {
            "text/plain": [
              "<Figure size 432x288 with 0 Axes>"
            ]
          },
          "metadata": {
            "tags": []
          }
        },
        {
          "output_type": "display_data",
          "data": {
            "image/png": "[encoded data removed]",
            "text/plain": [
              "<Figure size 1080x360 with 1 Axes>"
            ]
          },
          "metadata": {
            "tags": []
          }
        }
      ]
    },
    {
      "cell_type": "code",
      "metadata": {
        "id": "akWMoRSz7hqA",
        "colab_type": "code",
        "colab": {}
      },
      "source": [
        "\n",
        "\n",
        "# Age is right-skewed"
      ],
      "execution_count": 0,
      "outputs": []
    },
    {
      "cell_type": "code",
      "metadata": {
        "id": "XJo8G98y7hqI",
        "colab_type": "code",
        "colab": {
          "base_uri": "https://localhost:8080/",
          "height": 169
        },
        "outputId": "777eab77-10bc-4451-ffe6-853a9d95f30c"
      },
      "source": [
        "plt.figure(1)\n",
        "plt.subplot(221)\n",
        "\n",
        "df1['hours-per-week'].plot(kind='hist')\n",
        "\n",
        "plt.subplot(222)\n",
        "\n",
        "dd['hours-per-week'].plot(kind='hist')\n",
        "plt.tight_layout()"
      ],
      "execution_count": 500,
      "outputs": [
        {
          "output_type": "display_data",
          "data": {
            "image/png": "[encoded data removed]",
            "text/plain": [
              "<Figure size 432x288 with 2 Axes>"
            ]
          },
          "metadata": {
            "tags": []
          }
        }
      ]
    },
    {
      "cell_type": "code",
      "metadata": {
        "id": "wrvKi78G7hqN",
        "colab_type": "code",
        "colab": {
          "base_uri": "https://localhost:8080/",
          "height": 300
        },
        "outputId": "3cd215e1-5af9-4c9b-9bf9-a2347d4f228b"
      },
      "source": [
        "sns.distplot(df1['fnlwgt'])"
      ],
      "execution_count": 501,
      "outputs": [
        {
          "output_type": "execute_result",
          "data": {
            "text/plain": [
              "<matplotlib.axes._subplots.AxesSubplot at 0x7f3223e99b00>"
            ]
          },
          "metadata": {
            "tags": []
          },
          "execution_count": 501
        },
        {
          "output_type": "display_data",
          "data": {
            "image/png": "[encoded data removed]",
            "text/plain": [
              "<Figure size 432x288 with 1 Axes>"
            ]
          },
          "metadata": {
            "tags": []
          }
        }
      ]
    },
    {
      "cell_type": "code",
      "metadata": {
        "id": "zsF7o3O-7hqS",
        "colab_type": "code",
        "colab": {
          "base_uri": "https://localhost:8080/",
          "height": 300
        },
        "outputId": "4a406593-9e7c-41b7-9aff-b851fb1efc97"
      },
      "source": [
        "sns.distplot(dd['fnlwgt'])"
      ],
      "execution_count": 502,
      "outputs": [
        {
          "output_type": "execute_result",
          "data": {
            "text/plain": [
              "<matplotlib.axes._subplots.AxesSubplot at 0x7f32237e4860>"
            ]
          },
          "metadata": {
            "tags": []
          },
          "execution_count": 502
        },
        {
          "output_type": "display_data",
          "data": {
            "image/png": "[encoded data removed]",
            "text/plain": [
              "<Figure size 432x288 with 1 Axes>"
            ]
          },
          "metadata": {
            "tags": []
          }
        }
      ]
    },
    {
      "cell_type": "code",
      "metadata": {
        "id": "SQLxVBVL7hqc",
        "colab_type": "code",
        "colab": {}
      },
      "source": [
        "#The range of 0-600000 has the most of frequency in this column"
      ],
      "execution_count": 0,
      "outputs": []
    },
    {
      "cell_type": "code",
      "metadata": {
        "id": "Yeexfw337hqk",
        "colab_type": "code",
        "colab": {
          "base_uri": "https://localhost:8080/",
          "height": 51
        },
        "outputId": "06529e55-395c-4d3d-ebfc-763bccbd1323"
      },
      "source": [
        "print(df1['fnlwgt'].max())\n",
        "print(df1['fnlwgt'].min())"
      ],
      "execution_count": 504,
      "outputs": [
        {
          "output_type": "stream",
          "text": [
            "1484705.0\n",
            "12285.0\n"
          ],
          "name": "stdout"
        }
      ]
    },
    {
      "cell_type": "code",
      "metadata": {
        "id": "g-kOgK0o7hqo",
        "colab_type": "code",
        "colab": {
          "base_uri": "https://localhost:8080/",
          "height": 377
        },
        "outputId": "7bf0160e-804c-4378-9569-84c2fa4f6c1a"
      },
      "source": [
        "sns.countplot(df1.education)\n",
        "plt.xticks(rotation=90)"
      ],
      "execution_count": 505,
      "outputs": [
        {
          "output_type": "execute_result",
          "data": {
            "text/plain": [
              "(array([ 0,  1,  2,  3,  4,  5,  6,  7,  8,  9, 10, 11, 12, 13, 14, 15]),\n",
              " <a list of 16 Text xticklabel objects>)"
            ]
          },
          "metadata": {
            "tags": []
          },
          "execution_count": 505
        },
        {
          "output_type": "display_data",
          "data": {
            "image/png": "[encoded data removed]",
            "text/plain": [
              "<Figure size 432x288 with 1 Axes>"
            ]
          },
          "metadata": {
            "tags": []
          }
        }
      ]
    },
    {
      "cell_type": "code",
      "metadata": {
        "id": "RHfhkVqu7hqs",
        "colab_type": "code",
        "colab": {}
      },
      "source": [
        "#In education column High school graduate has the highest frequency\n",
        "#Pre school has the lowest frequency"
      ],
      "execution_count": 0,
      "outputs": []
    },
    {
      "cell_type": "code",
      "metadata": {
        "id": "RenPyTrh7hqx",
        "colab_type": "code",
        "colab": {
          "base_uri": "https://localhost:8080/",
          "height": 351
        },
        "outputId": "7ea4a582-4a08-4d0f-ba26-d51520161b70"
      },
      "source": [
        "print(df1.Income.value_counts(normalize=True)*100)\n",
        "sns.countplot(df1.Income)"
      ],
      "execution_count": 507,
      "outputs": [
        {
          "output_type": "stream",
          "text": [
            "<=50K    75.919044\n",
            ">50K     24.080956\n",
            "Name: Income, dtype: float64\n"
          ],
          "name": "stdout"
        },
        {
          "output_type": "execute_result",
          "data": {
            "text/plain": [
              "<matplotlib.axes._subplots.AxesSubplot at 0x7f3223708f60>"
            ]
          },
          "metadata": {
            "tags": []
          },
          "execution_count": 507
        },
        {
          "output_type": "display_data",
          "data": {
            "image/png": "[encoded data removed]",
            "text/plain": [
              "<Figure size 432x288 with 1 Axes>"
            ]
          },
          "metadata": {
            "tags": []
          }
        }
      ]
    },
    {
      "cell_type": "code",
      "metadata": {
        "id": "JLdgWhg57hq5",
        "colab_type": "code",
        "colab": {}
      },
      "source": [
        "#There is class imbalance in the target variable "
      ],
      "execution_count": 0,
      "outputs": []
    },
    {
      "cell_type": "code",
      "metadata": {
        "id": "_Lje6kaG7hq8",
        "colab_type": "code",
        "colab": {
          "base_uri": "https://localhost:8080/",
          "height": 376
        },
        "outputId": "16da91e1-6dd8-4e72-f405-d7a93fd9b43a"
      },
      "source": [
        "sns.countplot(df1['working-class'])\n",
        "plt.xticks(rotation=90)"
      ],
      "execution_count": 509,
      "outputs": [
        {
          "output_type": "execute_result",
          "data": {
            "text/plain": [
              "(array([0, 1, 2, 3, 4, 5, 6, 7]), <a list of 8 Text xticklabel objects>)"
            ]
          },
          "metadata": {
            "tags": []
          },
          "execution_count": 509
        },
        {
          "output_type": "display_data",
          "data": {
            "image/png": "[encoded data removed]",
            "text/plain": [
              "<Figure size 432x288 with 1 Axes>"
            ]
          },
          "metadata": {
            "tags": []
          }
        }
      ]
    },
    {
      "cell_type": "code",
      "metadata": {
        "id": "3ZG5ir4D7hrA",
        "colab_type": "code",
        "colab": {}
      },
      "source": [
        "#People working in Privste sector has the highest frequency in working-class column"
      ],
      "execution_count": 0,
      "outputs": []
    },
    {
      "cell_type": "code",
      "metadata": {
        "id": "DXOsI4hF7hrD",
        "colab_type": "code",
        "colab": {
          "base_uri": "https://localhost:8080/",
          "height": 300
        },
        "outputId": "37cf9546-e05f-4fa3-c522-ccce4e274827"
      },
      "source": [
        "sns.countplot(df1['education-num'])"
      ],
      "execution_count": 511,
      "outputs": [
        {
          "output_type": "execute_result",
          "data": {
            "text/plain": [
              "<matplotlib.axes._subplots.AxesSubplot at 0x7f32237a30f0>"
            ]
          },
          "metadata": {
            "tags": []
          },
          "execution_count": 511
        },
        {
          "output_type": "display_data",
          "data": {
            "image/png": "[encoded data removed]",
            "text/plain": [
              "<Figure size 432x288 with 1 Axes>"
            ]
          },
          "metadata": {
            "tags": []
          }
        }
      ]
    },
    {
      "cell_type": "code",
      "metadata": {
        "id": "gAv2eYDu7hrI",
        "colab_type": "code",
        "colab": {
          "base_uri": "https://localhost:8080/",
          "height": 34
        },
        "outputId": "f8439758-f4df-45ce-d873-f39b810b82c9"
      },
      "source": [
        "df1[df1['education-num']==9]['education'].unique()"
      ],
      "execution_count": 512,
      "outputs": [
        {
          "output_type": "execute_result",
          "data": {
            "text/plain": [
              "array(['HS-grad,'], dtype=object)"
            ]
          },
          "metadata": {
            "tags": []
          },
          "execution_count": 512
        }
      ]
    },
    {
      "cell_type": "code",
      "metadata": {
        "id": "yDa0Xmbg7hrL",
        "colab_type": "code",
        "colab": {}
      },
      "source": [
        "# Each rank assigned in education-num has been assigned to a specific educational qualification, so it gives the same information\n",
        "#as education column, so the column has to be dropped "
      ],
      "execution_count": 0,
      "outputs": []
    },
    {
      "cell_type": "code",
      "metadata": {
        "id": "-iBSSIuy7hrO",
        "colab_type": "code",
        "colab": {}
      },
      "source": [
        "df1.drop('education-num',axis=1,inplace=True)\n",
        "dd.drop('education-num',axis=1,inplace=True)"
      ],
      "execution_count": 0,
      "outputs": []
    },
    {
      "cell_type": "code",
      "metadata": {
        "id": "eU6wuM5C7hrR",
        "colab_type": "code",
        "colab": {
          "base_uri": "https://localhost:8080/",
          "height": 408
        },
        "outputId": "73f12703-1dd1-4afc-b8ad-7bac6075fb70"
      },
      "source": [
        "sns.countplot(df1['marital-status'])\n",
        "plt.xticks(rotation=90)"
      ],
      "execution_count": 515,
      "outputs": [
        {
          "output_type": "execute_result",
          "data": {
            "text/plain": [
              "(array([0, 1, 2, 3, 4, 5, 6]), <a list of 7 Text xticklabel objects>)"
            ]
          },
          "metadata": {
            "tags": []
          },
          "execution_count": 515
        },
        {
          "output_type": "display_data",
          "data": {
            "image/png": "[encoded data removed]",
            "text/plain": [
              "<Figure size 432x288 with 1 Axes>"
            ]
          },
          "metadata": {
            "tags": []
          }
        }
      ]
    },
    {
      "cell_type": "code",
      "metadata": {
        "id": "ho7IVF8c7hrZ",
        "colab_type": "code",
        "colab": {
          "base_uri": "https://localhost:8080/",
          "height": 402
        },
        "outputId": "0b4d668e-22a9-45ca-e015-40fcf6d27843"
      },
      "source": [
        "sns.countplot(df1.occupation)\n",
        "plt.xticks(rotation=90)"
      ],
      "execution_count": 516,
      "outputs": [
        {
          "output_type": "execute_result",
          "data": {
            "text/plain": [
              "(array([ 0,  1,  2,  3,  4,  5,  6,  7,  8,  9, 10, 11, 12, 13]),\n",
              " <a list of 14 Text xticklabel objects>)"
            ]
          },
          "metadata": {
            "tags": []
          },
          "execution_count": 516
        },
        {
          "output_type": "display_data",
          "data": {
            "image/png": "[encoded data removed]",
            "text/plain": [
              "<Figure size 432x288 with 1 Axes>"
            ]
          },
          "metadata": {
            "tags": []
          }
        }
      ]
    },
    {
      "cell_type": "markdown",
      "metadata": {
        "id": "B3drSuRQ7hrf",
        "colab_type": "text"
      },
      "source": [
        "# Multi-Variate Analysis and Feature Engineering"
      ]
    },
    {
      "cell_type": "code",
      "metadata": {
        "id": "XIkNJZR37hrg",
        "colab_type": "code",
        "colab": {
          "base_uri": "https://localhost:8080/",
          "height": 300
        },
        "outputId": "f00c892e-8884-4268-bf65-d490d9c8b0b3"
      },
      "source": [
        "#There is no relationship betwee age and the nuber of hours a person works\n",
        "sns.scatterplot(df1['hours-per-week'],df1['age'])"
      ],
      "execution_count": 517,
      "outputs": [
        {
          "output_type": "execute_result",
          "data": {
            "text/plain": [
              "<matplotlib.axes._subplots.AxesSubplot at 0x7f322328d080>"
            ]
          },
          "metadata": {
            "tags": []
          },
          "execution_count": 517
        },
        {
          "output_type": "display_data",
          "data": {
            "image/png": "[encoded data removed]",
            "text/plain": [
              "<Figure size 432x288 with 1 Axes>"
            ]
          },
          "metadata": {
            "tags": []
          }
        }
      ]
    },
    {
      "cell_type": "code",
      "metadata": {
        "id": "DRgED2EP7hrm",
        "colab_type": "code",
        "colab": {
          "base_uri": "https://localhost:8080/",
          "height": 326
        },
        "outputId": "457ec4dd-6425-40aa-f7ed-8a901da6c94c"
      },
      "source": [
        "#On an average people who work more than 40 hrs earn more than 50k and thse who work less than 40 hrs earn less than 50k\n",
        "df1['hours-per-week'].groupby(df1['Income']).mean().plot(kind='bar')"
      ],
      "execution_count": 518,
      "outputs": [
        {
          "output_type": "execute_result",
          "data": {
            "text/plain": [
              "<matplotlib.axes._subplots.AxesSubplot at 0x7f32231379e8>"
            ]
          },
          "metadata": {
            "tags": []
          },
          "execution_count": 518
        },
        {
          "output_type": "display_data",
          "data": {
            "image/png": "[encoded data removed]",
            "text/plain": [
              "<Figure size 432x288 with 1 Axes>"
            ]
          },
          "metadata": {
            "tags": []
          }
        }
      ]
    },
    {
      "cell_type": "code",
      "metadata": {
        "id": "A3J__gRl7hrp",
        "colab_type": "code",
        "colab": {}
      },
      "source": [
        "df1['Net capital gain or loss']=df1['capital-gain']-df1['capital-loss']"
      ],
      "execution_count": 0,
      "outputs": []
    },
    {
      "cell_type": "code",
      "metadata": {
        "id": "9Mg19l-f7hrs",
        "colab_type": "code",
        "colab": {}
      },
      "source": [
        "dd['Net capital gain or loss']=dd['capital-gain']-dd['capital-loss']"
      ],
      "execution_count": 0,
      "outputs": []
    },
    {
      "cell_type": "code",
      "metadata": {
        "id": "T-aIzXwk7hrv",
        "colab_type": "code",
        "colab": {
          "base_uri": "https://localhost:8080/",
          "height": 34
        },
        "outputId": "ecedcf29-0621-4241-91c3-b8770e88a232"
      },
      "source": [
        "df1['Income'].unique()"
      ],
      "execution_count": 521,
      "outputs": [
        {
          "output_type": "execute_result",
          "data": {
            "text/plain": [
              "array(['<=50K', '>50K'], dtype=object)"
            ]
          },
          "metadata": {
            "tags": []
          },
          "execution_count": 521
        }
      ]
    },
    {
      "cell_type": "code",
      "metadata": {
        "id": "5CTaJa3i7hr2",
        "colab_type": "code",
        "colab": {}
      },
      "source": [
        "\n",
        "def capital(i):\n",
        "    if i<0:\n",
        "        return 'Capital_Gain'\n",
        "    elif i>0:\n",
        "        return 'Capital_Loss'\n",
        "    else:\n",
        "        return 'No_Gain_No_Loss'"
      ],
      "execution_count": 0,
      "outputs": []
    },
    {
      "cell_type": "code",
      "metadata": {
        "id": "38AM7uS-7hr-",
        "colab_type": "code",
        "colab": {}
      },
      "source": [
        "df1['Net capital gain or loss']=df1['Net capital gain or loss'].apply(capital) "
      ],
      "execution_count": 0,
      "outputs": []
    },
    {
      "cell_type": "code",
      "metadata": {
        "id": "4M3RHWG07hsB",
        "colab_type": "code",
        "colab": {}
      },
      "source": [
        "dd['Net capital gain or loss']=dd['Net capital gain or loss'].apply(capital)"
      ],
      "execution_count": 0,
      "outputs": []
    },
    {
      "cell_type": "code",
      "metadata": {
        "id": "3Qrg59F27hsF",
        "colab_type": "code",
        "colab": {}
      },
      "source": [
        "df1.drop(['capital-gain','capital-loss'],axis=1,inplace=True)"
      ],
      "execution_count": 0,
      "outputs": []
    },
    {
      "cell_type": "code",
      "metadata": {
        "id": "_k-m2FkC7hsI",
        "colab_type": "code",
        "colab": {}
      },
      "source": [
        "\n",
        "\n",
        "dd.drop(['capital-gain','capital-loss'],axis=1,inplace=True)"
      ],
      "execution_count": 0,
      "outputs": []
    },
    {
      "cell_type": "code",
      "metadata": {
        "id": "CtJ9srhp7hsL",
        "colab_type": "code",
        "colab": {
          "base_uri": "https://localhost:8080/",
          "height": 170
        },
        "outputId": "2dbff9ae-2e11-44f4-bbd5-93e1ba403027"
      },
      "source": [
        "\n",
        "\n",
        "df1['native-country'].unique()"
      ],
      "execution_count": 527,
      "outputs": [
        {
          "output_type": "execute_result",
          "data": {
            "text/plain": [
              "array(['United-States,', 'Cuba,', 'Jamaica,', 'India,', 'Mexico,',\n",
              "       'South,', 'Puerto-Rico,', 'Honduras,', 'England,', 'Canada,',\n",
              "       'Germany,', 'Iran,', 'Philippines,', 'Italy,', 'Poland,',\n",
              "       'Columbia,', 'Cambodia,', 'Thailand,', 'Ecuador,', 'Laos,',\n",
              "       'Taiwan,', 'Haiti,', 'Portugal,', 'Dominican-Republic,',\n",
              "       'El-Salvador,', 'France,', 'Guatemala,', 'China,', 'Japan,',\n",
              "       'Yugoslavia,', 'Peru,', 'Outlying-US(Guam-USVI-etc),', 'Scotland,',\n",
              "       'Trinadad&Tobago,', 'Greece,', 'Nicaragua,', 'Vietnam,', 'Hong,',\n",
              "       'Ireland,', 'Hungary,', 'Holand-Netherlands,'], dtype=object)"
            ]
          },
          "metadata": {
            "tags": []
          },
          "execution_count": 527
        }
      ]
    },
    {
      "cell_type": "code",
      "metadata": {
        "id": "3LFtNBKP7hsN",
        "colab_type": "code",
        "colab": {}
      },
      "source": [
        "europe=['Holand-Netherlands,','Hungary,','Ireland,','Greece,','Scotland,','Yugoslavia,','France,','Portugal,','Poland,','Italy,',\n",
        "      'Germany,','England,']\n",
        "northamerica=['United-States,','Cuba,','Jamaica,','Mexico,','Puerto-Rico,','Honduras,','Canada,','Haiti,','Dominican-Republic,',\n",
        "             'El-Salvador,','Guatemala,','Outlying-US(Guam-USVI-etc),','Nicaragua,','Peru,']\n",
        "Asia=['Iran,','Philippines,','Cambodia,','Thailand,','Laos,','Taiwan,','China,', 'Japan,','Vietnam,','Hong,','India,','South,']\n",
        "southamerica=['Columbia,','Ecuador,','Trinadad&Tobago,']"
      ],
      "execution_count": 0,
      "outputs": []
    },
    {
      "cell_type": "code",
      "metadata": {
        "id": "GZ73cVa47hsP",
        "colab_type": "code",
        "colab": {}
      },
      "source": [
        "df1['native-country'].replace(europe,'Europe',inplace=True)\n",
        "df1['native-country'].replace(northamerica,'North-America',inplace=True)\n",
        "df1['native-country'].replace(Asia,'Asia',inplace=True)\n",
        "df1['native-country'].replace(southamerica,'South-America',inplace=True)"
      ],
      "execution_count": 0,
      "outputs": []
    },
    {
      "cell_type": "code",
      "metadata": {
        "id": "8s5FDiBf7hsR",
        "colab_type": "code",
        "colab": {}
      },
      "source": [
        "\n",
        "\n",
        "dd['native-country'].replace(europe,'Europe',inplace=True)\n",
        "dd['native-country'].replace(northamerica,'North-America',inplace=True)\n",
        "dd['native-country'].replace(Asia,'Asia',inplace=True)\n",
        "dd['native-country'].replace(southamerica,'South-America',inplace=True)"
      ],
      "execution_count": 0,
      "outputs": []
    },
    {
      "cell_type": "code",
      "metadata": {
        "id": "PYifKhnV7hsU",
        "colab_type": "code",
        "colab": {
          "base_uri": "https://localhost:8080/",
          "height": 34
        },
        "outputId": "ef91112e-81de-478d-b498-dc2af3f3609c"
      },
      "source": [
        "dd['native-country'].unique()"
      ],
      "execution_count": 531,
      "outputs": [
        {
          "output_type": "execute_result",
          "data": {
            "text/plain": [
              "array(['North-America', 'Europe', 'Asia', 'South-America'], dtype=object)"
            ]
          },
          "metadata": {
            "tags": []
          },
          "execution_count": 531
        }
      ]
    },
    {
      "cell_type": "code",
      "metadata": {
        "id": "XLrlnH377hsW",
        "colab_type": "code",
        "colab": {
          "base_uri": "https://localhost:8080/",
          "height": 34
        },
        "outputId": "e0adb804-65a4-431c-be6f-ead2960e745b"
      },
      "source": [
        "df1['sex'].unique()"
      ],
      "execution_count": 532,
      "outputs": [
        {
          "output_type": "execute_result",
          "data": {
            "text/plain": [
              "array(['Male,', 'Female,'], dtype=object)"
            ]
          },
          "metadata": {
            "tags": []
          },
          "execution_count": 532
        }
      ]
    },
    {
      "cell_type": "code",
      "metadata": {
        "id": "flskUF387hsZ",
        "colab_type": "code",
        "colab": {
          "base_uri": "https://localhost:8080/",
          "height": 51
        },
        "outputId": "e956fa77-d78c-4726-8cd5-2e669505ec9c"
      },
      "source": [
        "df1['race'].unique()"
      ],
      "execution_count": 533,
      "outputs": [
        {
          "output_type": "execute_result",
          "data": {
            "text/plain": [
              "array(['White,', 'Black,', 'Asian-Pac-Islander,', 'Amer-Indian-Eskimo,',\n",
              "       'Other,'], dtype=object)"
            ]
          },
          "metadata": {
            "tags": []
          },
          "execution_count": 533
        }
      ]
    },
    {
      "cell_type": "code",
      "metadata": {
        "id": "uHS7tQy27hsb",
        "colab_type": "code",
        "colab": {
          "base_uri": "https://localhost:8080/",
          "height": 408
        },
        "outputId": "56b40d4c-99a7-4c63-bc60-d40406597143"
      },
      "source": [
        "pd.crosstab(df1['marital-status'],df1['Income']).plot(kind='bar')"
      ],
      "execution_count": 534,
      "outputs": [
        {
          "output_type": "execute_result",
          "data": {
            "text/plain": [
              "<matplotlib.axes._subplots.AxesSubplot at 0x7f32230b64e0>"
            ]
          },
          "metadata": {
            "tags": []
          },
          "execution_count": 534
        },
        {
          "output_type": "display_data",
          "data": {
            "image/png": "[encoded data removed]",
            "text/plain": [
              "<Figure size 432x288 with 1 Axes>"
            ]
          },
          "metadata": {
            "tags": []
          }
        }
      ]
    },
    {
      "cell_type": "code",
      "metadata": {
        "id": "jWteswew7hsc",
        "colab_type": "code",
        "colab": {
          "base_uri": "https://localhost:8080/",
          "height": 351
        },
        "outputId": "44f77b0e-4e09-4b8c-d946-8d931aa65670"
      },
      "source": [
        "sns.countplot(df1['marital-status'])\n",
        "plt.xticks(rotation=90)"
      ],
      "execution_count": 538,
      "outputs": [
        {
          "output_type": "execute_result",
          "data": {
            "text/plain": [
              "(array([0, 1]), <a list of 2 Text xticklabel objects>)"
            ]
          },
          "metadata": {
            "tags": []
          },
          "execution_count": 538
        },
        {
          "output_type": "display_data",
          "data": {
            "image/png": "[encoded data removed]",
            "text/plain": [
              "<Figure size 432x288 with 1 Axes>"
            ]
          },
          "metadata": {
            "tags": []
          }
        }
      ]
    },
    {
      "cell_type": "code",
      "metadata": {
        "id": "eNDpLouy7hse",
        "colab_type": "code",
        "colab": {}
      },
      "source": [
        "married_with_spouse=['Married-civ-spouse,','Married-AF-spouse,']\n",
        "no_spouse=['Separated,','Divorced,','Never-married,','Widowed,','Married-spouse-absent,']\n",
        "            "
      ],
      "execution_count": 0,
      "outputs": []
    },
    {
      "cell_type": "code",
      "metadata": {
        "id": "iQsajMhF7hsf",
        "colab_type": "code",
        "colab": {}
      },
      "source": [
        "df1['marital-status']=df1['marital-status'].replace(married_with_spouse,'with_spouse')\n",
        "df1['marital-status']=df1['marital-status'].replace(no_spouse,'no_spouse')"
      ],
      "execution_count": 0,
      "outputs": []
    },
    {
      "cell_type": "code",
      "metadata": {
        "id": "rUBa4Ehi7hsh",
        "colab_type": "code",
        "colab": {}
      },
      "source": [
        "dd['marital-status']=dd['marital-status'].replace(married_with_spouse,'with_spouse')\n",
        "dd['marital-status']=dd['marital-status'].replace(no_spouse,'no_spouse')"
      ],
      "execution_count": 0,
      "outputs": []
    },
    {
      "cell_type": "code",
      "metadata": {
        "id": "O3yVv6HJ7hsl",
        "colab_type": "code",
        "colab": {
          "base_uri": "https://localhost:8080/",
          "height": 34
        },
        "outputId": "202e101e-7b9d-4266-af66-53ddf7555fd3"
      },
      "source": [
        "dd['marital-status'].unique()"
      ],
      "execution_count": 586,
      "outputs": [
        {
          "output_type": "execute_result",
          "data": {
            "text/plain": [
              "array(['no_spouse', 'with_spouse'], dtype=object)"
            ]
          },
          "metadata": {
            "tags": []
          },
          "execution_count": 586
        }
      ]
    },
    {
      "cell_type": "code",
      "metadata": {
        "id": "m90OZGi-7hsn",
        "colab_type": "code",
        "colab": {
          "base_uri": "https://localhost:8080/",
          "height": 326
        },
        "outputId": "3ab4ce85-2faf-486a-cc28-3242b0facefe"
      },
      "source": [
        "df1['fnlwgt'].groupby(df1.Income).mean().plot(kind='bar')"
      ],
      "execution_count": 540,
      "outputs": [
        {
          "output_type": "execute_result",
          "data": {
            "text/plain": [
              "<matplotlib.axes._subplots.AxesSubplot at 0x7f3221d01400>"
            ]
          },
          "metadata": {
            "tags": []
          },
          "execution_count": 540
        },
        {
          "output_type": "display_data",
          "data": {
            "image/png": "[encoded data removed]",
            "text/plain": [
              "<Figure size 432x288 with 1 Axes>"
            ]
          },
          "metadata": {
            "tags": []
          }
        }
      ]
    },
    {
      "cell_type": "code",
      "metadata": {
        "id": "oprmsLRL7hso",
        "colab_type": "code",
        "colab": {}
      },
      "source": [
        "df1.drop('fnlwgt',axis=1,inplace=True)\n",
        "dd.drop('fnlwgt',axis=1,inplace=True)"
      ],
      "execution_count": 0,
      "outputs": []
    },
    {
      "cell_type": "code",
      "metadata": {
        "id": "91uwyCvcGx0_",
        "colab_type": "code",
        "colab": {}
      },
      "source": [
        ""
      ],
      "execution_count": 0,
      "outputs": []
    },
    {
      "cell_type": "code",
      "metadata": {
        "id": "e54UORXK7hsq",
        "colab_type": "code",
        "colab": {
          "base_uri": "https://localhost:8080/",
          "height": 326
        },
        "outputId": "f525a440-d204-4cac-826e-4ee66ceafed6"
      },
      "source": [
        "df1['age'].groupby(df1.Income).mean().plot(kind='bar')\n"
      ],
      "execution_count": 542,
      "outputs": [
        {
          "output_type": "execute_result",
          "data": {
            "text/plain": [
              "<matplotlib.axes._subplots.AxesSubplot at 0x7f3221dd8b70>"
            ]
          },
          "metadata": {
            "tags": []
          },
          "execution_count": 542
        },
        {
          "output_type": "display_data",
          "data": {
            "image/png": "[encoded data removed]",
            "text/plain": [
              "<Figure size 432x288 with 1 Axes>"
            ]
          },
          "metadata": {
            "tags": []
          }
        }
      ]
    },
    {
      "cell_type": "code",
      "metadata": {
        "id": "56a1n7L17hst",
        "colab_type": "code",
        "colab": {
          "base_uri": "https://localhost:8080/",
          "height": 385
        },
        "outputId": "8d71dfc3-48c5-451a-ad31-d43ff694c6a1"
      },
      "source": [
        "pd.crosstab(df1.occupation,df1.Income).plot(kind='bar')"
      ],
      "execution_count": 543,
      "outputs": [
        {
          "output_type": "execute_result",
          "data": {
            "text/plain": [
              "<matplotlib.axes._subplots.AxesSubplot at 0x7f3221c9ce48>"
            ]
          },
          "metadata": {
            "tags": []
          },
          "execution_count": 543
        },
        {
          "output_type": "display_data",
          "data": {
            "image/png": "[encoded data removed]",
            "text/plain": [
              "<Figure size 432x288 with 1 Axes>"
            ]
          },
          "metadata": {
            "tags": []
          }
        }
      ]
    },
    {
      "cell_type": "code",
      "metadata": {
        "id": "5hZFuI5s7hsv",
        "colab_type": "code",
        "colab": {
          "base_uri": "https://localhost:8080/",
          "height": 34
        },
        "outputId": "cdc78396-a8b1-4e18-c654-81b13fd02671"
      },
      "source": [
        "dd['occupation'].unique()"
      ],
      "execution_count": 548,
      "outputs": [
        {
          "output_type": "execute_result",
          "data": {
            "text/plain": [
              "array(['tier3', 'tier2', 'tier1'], dtype=object)"
            ]
          },
          "metadata": {
            "tags": []
          },
          "execution_count": 548
        }
      ]
    },
    {
      "cell_type": "code",
      "metadata": {
        "id": "PB8N46PV7hsx",
        "colab_type": "code",
        "colab": {}
      },
      "source": [
        "tier3=['Adm-clerical,','Handlers-cleaners,','Other-service,','Farming-fishing,','Priv-house-serv,','Machine-op-inspct,']\n",
        "tier2=['Tech-support,','Protective-serv,','Transport-moving,','Sales,','Craft-repair,','Armed-Forces,']\n",
        "tier1=['Exec-managerial,','Prof-specialty,']"
      ],
      "execution_count": 0,
      "outputs": []
    },
    {
      "cell_type": "code",
      "metadata": {
        "id": "jeJn1Tz_7hsy",
        "colab_type": "code",
        "colab": {}
      },
      "source": [
        "df1['occupation'].replace(tier3,'tier3',inplace=True)\n",
        "df1['occupation'].replace(tier2,'tier2',inplace=True)\n",
        "df1['occupation'].replace(tier1,'tier1',inplace=True)\n"
      ],
      "execution_count": 0,
      "outputs": []
    },
    {
      "cell_type": "code",
      "metadata": {
        "id": "hyg2abAC7hs0",
        "colab_type": "code",
        "colab": {}
      },
      "source": [
        "dd['occupation'].replace(tier3,'tier3',inplace=True)\n",
        "dd['occupation'].replace(tier2,'tier2',inplace=True)\n",
        "dd['occupation'].replace(tier1,'tier1',inplace=True)\n"
      ],
      "execution_count": 0,
      "outputs": []
    },
    {
      "cell_type": "code",
      "metadata": {
        "id": "oZtyu-1o7hs-",
        "colab_type": "code",
        "colab": {
          "base_uri": "https://localhost:8080/",
          "height": 376
        },
        "outputId": "ab1e608c-9313-47fa-bc8c-8bd9484a29fb"
      },
      "source": [
        "pd.crosstab(df1['working-class'],df1['Income']).plot(kind='bar')"
      ],
      "execution_count": 555,
      "outputs": [
        {
          "output_type": "execute_result",
          "data": {
            "text/plain": [
              "<matplotlib.axes._subplots.AxesSubplot at 0x7f3221b5d908>"
            ]
          },
          "metadata": {
            "tags": []
          },
          "execution_count": 555
        },
        {
          "output_type": "display_data",
          "data": {
            "image/png": "[encoded data removed]",
            "text/plain": [
              "<Figure size 432x288 with 1 Axes>"
            ]
          },
          "metadata": {
            "tags": []
          }
        }
      ]
    },
    {
      "cell_type": "code",
      "metadata": {
        "id": "pSH5dBD47htB",
        "colab_type": "code",
        "colab": {
          "base_uri": "https://localhost:8080/",
          "height": 68
        },
        "outputId": "7f94bc68-5926-4dfd-c972-06f471315927"
      },
      "source": [
        "dd['working-class'].unique()"
      ],
      "execution_count": 550,
      "outputs": [
        {
          "output_type": "execute_result",
          "data": {
            "text/plain": [
              "array(['Private,', 'Local-gov,', 'Self-emp-not-inc,', 'Federal-gov,',\n",
              "       'State-gov,', 'Self-emp-inc,', 'Without-pay,', 'Never-worked,'],\n",
              "      dtype=object)"
            ]
          },
          "metadata": {
            "tags": []
          },
          "execution_count": 550
        }
      ]
    },
    {
      "cell_type": "code",
      "metadata": {
        "id": "zcYPtv5C7htC",
        "colab_type": "code",
        "colab": {}
      },
      "source": [
        "govt=['State-gov,','Federal-gov,','Local-gov,']"
      ],
      "execution_count": 0,
      "outputs": []
    },
    {
      "cell_type": "code",
      "metadata": {
        "id": "YTz7enYD7htD",
        "colab_type": "code",
        "colab": {}
      },
      "source": [
        "cls=['Without-pay,','Never-worked,']"
      ],
      "execution_count": 0,
      "outputs": []
    },
    {
      "cell_type": "code",
      "metadata": {
        "id": "qrGJtFTb7htE",
        "colab_type": "code",
        "colab": {}
      },
      "source": [
        "df1['working-class'].replace(cls,'No-self-Income',inplace=True)\n",
        "df1['working-class'].replace(govt,'govt_emp',inplace=True)"
      ],
      "execution_count": 0,
      "outputs": []
    },
    {
      "cell_type": "code",
      "metadata": {
        "id": "wS_Jxjoo7htF",
        "colab_type": "code",
        "colab": {}
      },
      "source": [
        "dd['working-class'].replace(cls,'No-self-Income',inplace=True)\n",
        "dd['working-class'].replace(govt,'govt_emp',inplace=True)"
      ],
      "execution_count": 0,
      "outputs": []
    },
    {
      "cell_type": "code",
      "metadata": {
        "id": "aRv8kprG7htH",
        "colab_type": "code",
        "colab": {}
      },
      "source": [
        ""
      ],
      "execution_count": 0,
      "outputs": []
    },
    {
      "cell_type": "code",
      "metadata": {
        "id": "dat7g0S-7htI",
        "colab_type": "code",
        "colab": {}
      },
      "source": [
        ""
      ],
      "execution_count": 0,
      "outputs": []
    },
    {
      "cell_type": "code",
      "metadata": {
        "id": "axPLakzQ7htJ",
        "colab_type": "code",
        "colab": {
          "base_uri": "https://localhost:8080/",
          "height": 85
        },
        "outputId": "094e85d1-cff2-4217-8eb8-6ca4e5af9132"
      },
      "source": [
        "df1.education.unique()"
      ],
      "execution_count": 556,
      "outputs": [
        {
          "output_type": "execute_result",
          "data": {
            "text/plain": [
              "array(['Bachelors,', 'HS-grad,', '11th,', 'Masters,', '9th,',\n",
              "       'Some-college,', 'Assoc-acdm,', 'Assoc-voc,', '7th-8th,',\n",
              "       'Doctorate,', 'Prof-school,', '5th-6th,', '10th,', '1st-4th,',\n",
              "       'Preschool,', '12th,'], dtype=object)"
            ]
          },
          "metadata": {
            "tags": []
          },
          "execution_count": 556
        }
      ]
    },
    {
      "cell_type": "code",
      "metadata": {
        "id": "z1Hnylun7htK",
        "colab_type": "code",
        "colab": {}
      },
      "source": [
        "edu=['11th,','9th,','7th-8th,','5th-6th,','10th,', '1st-4th,','Preschool,', '12th,']"
      ],
      "execution_count": 0,
      "outputs": []
    },
    {
      "cell_type": "code",
      "metadata": {
        "id": "6BOd4U3P7htL",
        "colab_type": "code",
        "colab": {
          "base_uri": "https://localhost:8080/",
          "height": 360
        },
        "outputId": "4f6cdd53-3f34-413f-bf7a-0193eed47c4d"
      },
      "source": [
        "pd.crosstab(df1.education,df1['Income']).plot(kind='bar')"
      ],
      "execution_count": 558,
      "outputs": [
        {
          "output_type": "execute_result",
          "data": {
            "text/plain": [
              "<matplotlib.axes._subplots.AxesSubplot at 0x7f3221ad2278>"
            ]
          },
          "metadata": {
            "tags": []
          },
          "execution_count": 558
        },
        {
          "output_type": "display_data",
          "data": {
            "image/png": "[encoded data removed]",
            "text/plain": [
              "<Figure size 432x288 with 1 Axes>"
            ]
          },
          "metadata": {
            "tags": []
          }
        }
      ]
    },
    {
      "cell_type": "code",
      "metadata": {
        "id": "x-0XrWQz7htN",
        "colab_type": "code",
        "colab": {}
      },
      "source": [
        "df1['education'].replace(edu,'school-edu',inplace=True)"
      ],
      "execution_count": 0,
      "outputs": []
    },
    {
      "cell_type": "code",
      "metadata": {
        "id": "xrlZIYDb7htO",
        "colab_type": "code",
        "colab": {}
      },
      "source": [
        "dd['education'].replace(edu,'school-edu',inplace=True)"
      ],
      "execution_count": 0,
      "outputs": []
    },
    {
      "cell_type": "code",
      "metadata": {
        "id": "mD4eoM4vLC28",
        "colab_type": "code",
        "colab": {
          "base_uri": "https://localhost:8080/",
          "height": 51
        },
        "outputId": "fe891f00-cf4c-4bdf-f29a-2ab067a3bb83"
      },
      "source": [
        "df1['education'].unique()"
      ],
      "execution_count": 563,
      "outputs": [
        {
          "output_type": "execute_result",
          "data": {
            "text/plain": [
              "array(['Bachelors,', 'HS-grad,', 'school-edu', 'Masters,', 'collage',\n",
              "       'Doctorate,', 'Prof-school,'], dtype=object)"
            ]
          },
          "metadata": {
            "tags": []
          },
          "execution_count": 563
        }
      ]
    },
    {
      "cell_type": "code",
      "metadata": {
        "id": "HmGJMS4NKe6t",
        "colab_type": "code",
        "colab": {}
      },
      "source": [
        "collage=['Assoc-acdm,', 'Assoc-voc,','Some-college,']\n",
        "df1['education'].replace(collage,'collage',inplace=True)\n",
        "dd['education'].replace(collage,'collage',inplace=True)"
      ],
      "execution_count": 0,
      "outputs": []
    },
    {
      "cell_type": "code",
      "metadata": {
        "id": "kqJKeoxa7htQ",
        "colab_type": "code",
        "colab": {}
      },
      "source": [
        "df1['Income']=le.fit_transform(df1['Income'])"
      ],
      "execution_count": 0,
      "outputs": []
    },
    {
      "cell_type": "code",
      "metadata": {
        "id": "cjj33t2G7htT",
        "colab_type": "code",
        "colab": {}
      },
      "source": [
        "dd['Income']=le.fit_transform(dd['Income'])"
      ],
      "execution_count": 0,
      "outputs": []
    },
    {
      "cell_type": "code",
      "metadata": {
        "id": "881a1uBC7htU",
        "colab_type": "code",
        "colab": {}
      },
      "source": [
        "import numpy as np"
      ],
      "execution_count": 0,
      "outputs": []
    },
    {
      "cell_type": "code",
      "metadata": {
        "id": "hnyHnTs27htW",
        "colab_type": "code",
        "colab": {}
      },
      "source": [
        "df1['age']=np.log(df1['age'])"
      ],
      "execution_count": 0,
      "outputs": []
    },
    {
      "cell_type": "code",
      "metadata": {
        "id": "2BS8EskS7htY",
        "colab_type": "code",
        "colab": {}
      },
      "source": [
        "def hours(x):\n",
        "    if x<40:\n",
        "        return '<40'\n",
        "    else:\n",
        "        return '>=40'"
      ],
      "execution_count": 0,
      "outputs": []
    },
    {
      "cell_type": "code",
      "metadata": {
        "id": "FqtbqELi7htZ",
        "colab_type": "code",
        "colab": {}
      },
      "source": [
        "df1['hours-per-week']=df1['hours-per-week'].apply(hours)\n",
        "dd['hours-per-week']=dd['hours-per-week'].apply(hours)\n"
      ],
      "execution_count": 0,
      "outputs": []
    },
    {
      "cell_type": "code",
      "metadata": {
        "id": "uEJ5gaZr7hta",
        "colab_type": "code",
        "colab": {}
      },
      "source": [
        "dd['age']=np.log(dd['age'])\n"
      ],
      "execution_count": 0,
      "outputs": []
    },
    {
      "cell_type": "code",
      "metadata": {
        "id": "NbhIkris7htf",
        "colab_type": "code",
        "colab": {}
      },
      "source": [
        "Class1=df1[df1.Income==0]\n",
        "Class2=df1[df1.Income==1]"
      ],
      "execution_count": 0,
      "outputs": []
    },
    {
      "cell_type": "code",
      "metadata": {
        "id": "MJJk4jyUSo7W",
        "colab_type": "code",
        "colab": {
          "base_uri": "https://localhost:8080/",
          "height": 323
        },
        "outputId": "465bd10b-d7fe-42d3-ee4d-4a2ffe06bc85"
      },
      "source": [
        "df1.drop(['relationship'],axis=1,inplace=True)\n",
        "dd.drop(['relationship'],axis=1,inplace=True)"
      ],
      "execution_count": 583,
      "outputs": [
        {
          "output_type": "error",
          "ename": "KeyError",
          "evalue": "ignored",
          "traceback": [
            "\u001b[0;31m---------------------------------------------------------------------------\u001b[0m",
            "\u001b[0;31mKeyError\u001b[0m                                  Traceback (most recent call last)",
            "\u001b[0;32m<ipython-input-583-a466a6fdf318>\u001b[0m in \u001b[0;36m<module>\u001b[0;34m()\u001b[0m\n\u001b[0;32m----> 1\u001b[0;31m \u001b[0mdf1\u001b[0m\u001b[0;34m.\u001b[0m\u001b[0mdrop\u001b[0m\u001b[0;34m(\u001b[0m\u001b[0;34m[\u001b[0m\u001b[0;34m'relationship'\u001b[0m\u001b[0;34m]\u001b[0m\u001b[0;34m,\u001b[0m\u001b[0maxis\u001b[0m\u001b[0;34m=\u001b[0m\u001b[0;36m1\u001b[0m\u001b[0;34m,\u001b[0m\u001b[0minplace\u001b[0m\u001b[0;34m=\u001b[0m\u001b[0;32mTrue\u001b[0m\u001b[0;34m)\u001b[0m\u001b[0;34m\u001b[0m\u001b[0;34m\u001b[0m\u001b[0m\n\u001b[0m\u001b[1;32m      2\u001b[0m \u001b[0mdd\u001b[0m\u001b[0;34m.\u001b[0m\u001b[0mdrop\u001b[0m\u001b[0;34m(\u001b[0m\u001b[0;34m[\u001b[0m\u001b[0;34m'relationship'\u001b[0m\u001b[0;34m]\u001b[0m\u001b[0;34m,\u001b[0m\u001b[0maxis\u001b[0m\u001b[0;34m=\u001b[0m\u001b[0;36m1\u001b[0m\u001b[0;34m,\u001b[0m\u001b[0minplace\u001b[0m\u001b[0;34m=\u001b[0m\u001b[0;32mTrue\u001b[0m\u001b[0;34m)\u001b[0m\u001b[0;34m\u001b[0m\u001b[0;34m\u001b[0m\u001b[0m\n",
            "\u001b[0;32m/usr/local/lib/python3.6/dist-packages/pandas/core/frame.py\u001b[0m in \u001b[0;36mdrop\u001b[0;34m(self, labels, axis, index, columns, level, inplace, errors)\u001b[0m\n\u001b[1;32m   3938\u001b[0m                                            \u001b[0mindex\u001b[0m\u001b[0;34m=\u001b[0m\u001b[0mindex\u001b[0m\u001b[0;34m,\u001b[0m \u001b[0mcolumns\u001b[0m\u001b[0;34m=\u001b[0m\u001b[0mcolumns\u001b[0m\u001b[0;34m,\u001b[0m\u001b[0;34m\u001b[0m\u001b[0;34m\u001b[0m\u001b[0m\n\u001b[1;32m   3939\u001b[0m                                            \u001b[0mlevel\u001b[0m\u001b[0;34m=\u001b[0m\u001b[0mlevel\u001b[0m\u001b[0;34m,\u001b[0m \u001b[0minplace\u001b[0m\u001b[0;34m=\u001b[0m\u001b[0minplace\u001b[0m\u001b[0;34m,\u001b[0m\u001b[0;34m\u001b[0m\u001b[0;34m\u001b[0m\u001b[0m\n\u001b[0;32m-> 3940\u001b[0;31m                                            errors=errors)\n\u001b[0m\u001b[1;32m   3941\u001b[0m \u001b[0;34m\u001b[0m\u001b[0m\n\u001b[1;32m   3942\u001b[0m     @rewrite_axis_style_signature('mapper', [('copy', True),\n",
            "\u001b[0;32m/usr/local/lib/python3.6/dist-packages/pandas/core/generic.py\u001b[0m in \u001b[0;36mdrop\u001b[0;34m(self, labels, axis, index, columns, level, inplace, errors)\u001b[0m\n\u001b[1;32m   3778\u001b[0m         \u001b[0;32mfor\u001b[0m \u001b[0maxis\u001b[0m\u001b[0;34m,\u001b[0m \u001b[0mlabels\u001b[0m \u001b[0;32min\u001b[0m \u001b[0maxes\u001b[0m\u001b[0;34m.\u001b[0m\u001b[0mitems\u001b[0m\u001b[0;34m(\u001b[0m\u001b[0;34m)\u001b[0m\u001b[0;34m:\u001b[0m\u001b[0;34m\u001b[0m\u001b[0;34m\u001b[0m\u001b[0m\n\u001b[1;32m   3779\u001b[0m             \u001b[0;32mif\u001b[0m \u001b[0mlabels\u001b[0m \u001b[0;32mis\u001b[0m \u001b[0;32mnot\u001b[0m \u001b[0;32mNone\u001b[0m\u001b[0;34m:\u001b[0m\u001b[0;34m\u001b[0m\u001b[0;34m\u001b[0m\u001b[0m\n\u001b[0;32m-> 3780\u001b[0;31m                 \u001b[0mobj\u001b[0m \u001b[0;34m=\u001b[0m \u001b[0mobj\u001b[0m\u001b[0;34m.\u001b[0m\u001b[0m_drop_axis\u001b[0m\u001b[0;34m(\u001b[0m\u001b[0mlabels\u001b[0m\u001b[0;34m,\u001b[0m \u001b[0maxis\u001b[0m\u001b[0;34m,\u001b[0m \u001b[0mlevel\u001b[0m\u001b[0;34m=\u001b[0m\u001b[0mlevel\u001b[0m\u001b[0;34m,\u001b[0m \u001b[0merrors\u001b[0m\u001b[0;34m=\u001b[0m\u001b[0merrors\u001b[0m\u001b[0;34m)\u001b[0m\u001b[0;34m\u001b[0m\u001b[0;34m\u001b[0m\u001b[0m\n\u001b[0m\u001b[1;32m   3781\u001b[0m \u001b[0;34m\u001b[0m\u001b[0m\n\u001b[1;32m   3782\u001b[0m         \u001b[0;32mif\u001b[0m \u001b[0minplace\u001b[0m\u001b[0;34m:\u001b[0m\u001b[0;34m\u001b[0m\u001b[0;34m\u001b[0m\u001b[0m\n",
            "\u001b[0;32m/usr/local/lib/python3.6/dist-packages/pandas/core/generic.py\u001b[0m in \u001b[0;36m_drop_axis\u001b[0;34m(self, labels, axis, level, errors)\u001b[0m\n\u001b[1;32m   3810\u001b[0m                 \u001b[0mnew_axis\u001b[0m \u001b[0;34m=\u001b[0m \u001b[0maxis\u001b[0m\u001b[0;34m.\u001b[0m\u001b[0mdrop\u001b[0m\u001b[0;34m(\u001b[0m\u001b[0mlabels\u001b[0m\u001b[0;34m,\u001b[0m \u001b[0mlevel\u001b[0m\u001b[0;34m=\u001b[0m\u001b[0mlevel\u001b[0m\u001b[0;34m,\u001b[0m \u001b[0merrors\u001b[0m\u001b[0;34m=\u001b[0m\u001b[0merrors\u001b[0m\u001b[0;34m)\u001b[0m\u001b[0;34m\u001b[0m\u001b[0;34m\u001b[0m\u001b[0m\n\u001b[1;32m   3811\u001b[0m             \u001b[0;32melse\u001b[0m\u001b[0;34m:\u001b[0m\u001b[0;34m\u001b[0m\u001b[0;34m\u001b[0m\u001b[0m\n\u001b[0;32m-> 3812\u001b[0;31m                 \u001b[0mnew_axis\u001b[0m \u001b[0;34m=\u001b[0m \u001b[0maxis\u001b[0m\u001b[0;34m.\u001b[0m\u001b[0mdrop\u001b[0m\u001b[0;34m(\u001b[0m\u001b[0mlabels\u001b[0m\u001b[0;34m,\u001b[0m \u001b[0merrors\u001b[0m\u001b[0;34m=\u001b[0m\u001b[0merrors\u001b[0m\u001b[0;34m)\u001b[0m\u001b[0;34m\u001b[0m\u001b[0;34m\u001b[0m\u001b[0m\n\u001b[0m\u001b[1;32m   3813\u001b[0m             \u001b[0mresult\u001b[0m \u001b[0;34m=\u001b[0m \u001b[0mself\u001b[0m\u001b[0;34m.\u001b[0m\u001b[0mreindex\u001b[0m\u001b[0;34m(\u001b[0m\u001b[0;34m**\u001b[0m\u001b[0;34m{\u001b[0m\u001b[0maxis_name\u001b[0m\u001b[0;34m:\u001b[0m \u001b[0mnew_axis\u001b[0m\u001b[0;34m}\u001b[0m\u001b[0;34m)\u001b[0m\u001b[0;34m\u001b[0m\u001b[0;34m\u001b[0m\u001b[0m\n\u001b[1;32m   3814\u001b[0m \u001b[0;34m\u001b[0m\u001b[0m\n",
            "\u001b[0;32m/usr/local/lib/python3.6/dist-packages/pandas/core/indexes/base.py\u001b[0m in \u001b[0;36mdrop\u001b[0;34m(self, labels, errors)\u001b[0m\n\u001b[1;32m   4963\u001b[0m             \u001b[0;32mif\u001b[0m \u001b[0merrors\u001b[0m \u001b[0;34m!=\u001b[0m \u001b[0;34m'ignore'\u001b[0m\u001b[0;34m:\u001b[0m\u001b[0;34m\u001b[0m\u001b[0;34m\u001b[0m\u001b[0m\n\u001b[1;32m   4964\u001b[0m                 raise KeyError(\n\u001b[0;32m-> 4965\u001b[0;31m                     '{} not found in axis'.format(labels[mask]))\n\u001b[0m\u001b[1;32m   4966\u001b[0m             \u001b[0mindexer\u001b[0m \u001b[0;34m=\u001b[0m \u001b[0mindexer\u001b[0m\u001b[0;34m[\u001b[0m\u001b[0;34m~\u001b[0m\u001b[0mmask\u001b[0m\u001b[0;34m]\u001b[0m\u001b[0;34m\u001b[0m\u001b[0;34m\u001b[0m\u001b[0m\n\u001b[1;32m   4967\u001b[0m         \u001b[0;32mreturn\u001b[0m \u001b[0mself\u001b[0m\u001b[0;34m.\u001b[0m\u001b[0mdelete\u001b[0m\u001b[0;34m(\u001b[0m\u001b[0mindexer\u001b[0m\u001b[0;34m)\u001b[0m\u001b[0;34m\u001b[0m\u001b[0;34m\u001b[0m\u001b[0m\n",
            "\u001b[0;31mKeyError\u001b[0m: \"['relationship'] not found in axis\""
          ]
        }
      ]
    },
    {
      "cell_type": "code",
      "metadata": {
        "id": "SAmYfMVx7hth",
        "colab_type": "code",
        "colab": {
          "base_uri": "https://localhost:8080/",
          "height": 1000
        },
        "outputId": "d946a35d-8363-4850-c7c2-b928a923917f"
      },
      "source": [
        "test.head().T"
      ],
      "execution_count": 584,
      "outputs": [
        {
          "output_type": "execute_result",
          "data": {
            "text/html": [
              "<div>\n",
              "<style scoped>\n",
              "    .dataframe tbody tr th:only-of-type {\n",
              "        vertical-align: middle;\n",
              "    }\n",
              "\n",
              "    .dataframe tbody tr th {\n",
              "        vertical-align: top;\n",
              "    }\n",
              "\n",
              "    .dataframe thead th {\n",
              "        text-align: right;\n",
              "    }\n",
              "</style>\n",
              "<table border=\"1\" class=\"dataframe\">\n",
              "  <thead>\n",
              "    <tr style=\"text-align: right;\">\n",
              "      <th></th>\n",
              "      <th>0</th>\n",
              "      <th>1</th>\n",
              "      <th>2</th>\n",
              "      <th>3</th>\n",
              "      <th>4</th>\n",
              "    </tr>\n",
              "  </thead>\n",
              "  <tbody>\n",
              "    <tr>\n",
              "      <th>age</th>\n",
              "      <td>3.218876</td>\n",
              "      <td>3.637586</td>\n",
              "      <td>3.332205</td>\n",
              "      <td>3.78419</td>\n",
              "      <td>2.890372</td>\n",
              "    </tr>\n",
              "    <tr>\n",
              "      <th>Income</th>\n",
              "      <td>0.000000</td>\n",
              "      <td>0.000000</td>\n",
              "      <td>1.000000</td>\n",
              "      <td>1.00000</td>\n",
              "      <td>0.000000</td>\n",
              "    </tr>\n",
              "    <tr>\n",
              "      <th>working-class_No-self-Income</th>\n",
              "      <td>0.000000</td>\n",
              "      <td>0.000000</td>\n",
              "      <td>0.000000</td>\n",
              "      <td>0.00000</td>\n",
              "      <td>0.000000</td>\n",
              "    </tr>\n",
              "    <tr>\n",
              "      <th>working-class_Private,</th>\n",
              "      <td>1.000000</td>\n",
              "      <td>1.000000</td>\n",
              "      <td>0.000000</td>\n",
              "      <td>1.00000</td>\n",
              "      <td>1.000000</td>\n",
              "    </tr>\n",
              "    <tr>\n",
              "      <th>working-class_Self-emp-inc,</th>\n",
              "      <td>0.000000</td>\n",
              "      <td>0.000000</td>\n",
              "      <td>0.000000</td>\n",
              "      <td>0.00000</td>\n",
              "      <td>0.000000</td>\n",
              "    </tr>\n",
              "    <tr>\n",
              "      <th>working-class_Self-emp-not-inc,</th>\n",
              "      <td>0.000000</td>\n",
              "      <td>0.000000</td>\n",
              "      <td>0.000000</td>\n",
              "      <td>0.00000</td>\n",
              "      <td>0.000000</td>\n",
              "    </tr>\n",
              "    <tr>\n",
              "      <th>working-class_govt_emp</th>\n",
              "      <td>0.000000</td>\n",
              "      <td>0.000000</td>\n",
              "      <td>1.000000</td>\n",
              "      <td>0.00000</td>\n",
              "      <td>0.000000</td>\n",
              "    </tr>\n",
              "    <tr>\n",
              "      <th>education_Bachelors,</th>\n",
              "      <td>0.000000</td>\n",
              "      <td>0.000000</td>\n",
              "      <td>0.000000</td>\n",
              "      <td>0.00000</td>\n",
              "      <td>0.000000</td>\n",
              "    </tr>\n",
              "    <tr>\n",
              "      <th>education_Doctorate,</th>\n",
              "      <td>0.000000</td>\n",
              "      <td>0.000000</td>\n",
              "      <td>0.000000</td>\n",
              "      <td>0.00000</td>\n",
              "      <td>0.000000</td>\n",
              "    </tr>\n",
              "    <tr>\n",
              "      <th>education_HS-grad,</th>\n",
              "      <td>0.000000</td>\n",
              "      <td>1.000000</td>\n",
              "      <td>0.000000</td>\n",
              "      <td>0.00000</td>\n",
              "      <td>0.000000</td>\n",
              "    </tr>\n",
              "    <tr>\n",
              "      <th>education_Masters,</th>\n",
              "      <td>0.000000</td>\n",
              "      <td>0.000000</td>\n",
              "      <td>0.000000</td>\n",
              "      <td>0.00000</td>\n",
              "      <td>0.000000</td>\n",
              "    </tr>\n",
              "    <tr>\n",
              "      <th>education_Prof-school,</th>\n",
              "      <td>0.000000</td>\n",
              "      <td>0.000000</td>\n",
              "      <td>0.000000</td>\n",
              "      <td>0.00000</td>\n",
              "      <td>0.000000</td>\n",
              "    </tr>\n",
              "    <tr>\n",
              "      <th>education_collage</th>\n",
              "      <td>0.000000</td>\n",
              "      <td>0.000000</td>\n",
              "      <td>1.000000</td>\n",
              "      <td>1.00000</td>\n",
              "      <td>1.000000</td>\n",
              "    </tr>\n",
              "    <tr>\n",
              "      <th>education_school-edu</th>\n",
              "      <td>1.000000</td>\n",
              "      <td>0.000000</td>\n",
              "      <td>0.000000</td>\n",
              "      <td>0.00000</td>\n",
              "      <td>0.000000</td>\n",
              "    </tr>\n",
              "    <tr>\n",
              "      <th>marital-status_Divorced,</th>\n",
              "      <td>0.000000</td>\n",
              "      <td>0.000000</td>\n",
              "      <td>0.000000</td>\n",
              "      <td>0.00000</td>\n",
              "      <td>0.000000</td>\n",
              "    </tr>\n",
              "    <tr>\n",
              "      <th>marital-status_Married-AF-spouse,</th>\n",
              "      <td>0.000000</td>\n",
              "      <td>0.000000</td>\n",
              "      <td>0.000000</td>\n",
              "      <td>0.00000</td>\n",
              "      <td>0.000000</td>\n",
              "    </tr>\n",
              "    <tr>\n",
              "      <th>marital-status_Married-civ-spouse,</th>\n",
              "      <td>0.000000</td>\n",
              "      <td>1.000000</td>\n",
              "      <td>1.000000</td>\n",
              "      <td>1.00000</td>\n",
              "      <td>0.000000</td>\n",
              "    </tr>\n",
              "    <tr>\n",
              "      <th>marital-status_Married-spouse-absent,</th>\n",
              "      <td>0.000000</td>\n",
              "      <td>0.000000</td>\n",
              "      <td>0.000000</td>\n",
              "      <td>0.00000</td>\n",
              "      <td>0.000000</td>\n",
              "    </tr>\n",
              "    <tr>\n",
              "      <th>marital-status_Never-married,</th>\n",
              "      <td>1.000000</td>\n",
              "      <td>0.000000</td>\n",
              "      <td>0.000000</td>\n",
              "      <td>0.00000</td>\n",
              "      <td>1.000000</td>\n",
              "    </tr>\n",
              "    <tr>\n",
              "      <th>marital-status_Separated,</th>\n",
              "      <td>0.000000</td>\n",
              "      <td>0.000000</td>\n",
              "      <td>0.000000</td>\n",
              "      <td>0.00000</td>\n",
              "      <td>0.000000</td>\n",
              "    </tr>\n",
              "    <tr>\n",
              "      <th>marital-status_Widowed,</th>\n",
              "      <td>0.000000</td>\n",
              "      <td>0.000000</td>\n",
              "      <td>0.000000</td>\n",
              "      <td>0.00000</td>\n",
              "      <td>0.000000</td>\n",
              "    </tr>\n",
              "    <tr>\n",
              "      <th>occupation_tier1</th>\n",
              "      <td>0.000000</td>\n",
              "      <td>0.000000</td>\n",
              "      <td>0.000000</td>\n",
              "      <td>0.00000</td>\n",
              "      <td>1.000000</td>\n",
              "    </tr>\n",
              "    <tr>\n",
              "      <th>occupation_tier2</th>\n",
              "      <td>0.000000</td>\n",
              "      <td>0.000000</td>\n",
              "      <td>1.000000</td>\n",
              "      <td>0.00000</td>\n",
              "      <td>0.000000</td>\n",
              "    </tr>\n",
              "    <tr>\n",
              "      <th>occupation_tier3</th>\n",
              "      <td>1.000000</td>\n",
              "      <td>1.000000</td>\n",
              "      <td>0.000000</td>\n",
              "      <td>1.00000</td>\n",
              "      <td>0.000000</td>\n",
              "    </tr>\n",
              "    <tr>\n",
              "      <th>race_Amer-Indian-Eskimo,</th>\n",
              "      <td>0.000000</td>\n",
              "      <td>0.000000</td>\n",
              "      <td>0.000000</td>\n",
              "      <td>0.00000</td>\n",
              "      <td>0.000000</td>\n",
              "    </tr>\n",
              "    <tr>\n",
              "      <th>race_Asian-Pac-Islander,</th>\n",
              "      <td>0.000000</td>\n",
              "      <td>0.000000</td>\n",
              "      <td>0.000000</td>\n",
              "      <td>0.00000</td>\n",
              "      <td>0.000000</td>\n",
              "    </tr>\n",
              "    <tr>\n",
              "      <th>race_Black,</th>\n",
              "      <td>1.000000</td>\n",
              "      <td>0.000000</td>\n",
              "      <td>0.000000</td>\n",
              "      <td>1.00000</td>\n",
              "      <td>0.000000</td>\n",
              "    </tr>\n",
              "    <tr>\n",
              "      <th>race_Other,</th>\n",
              "      <td>0.000000</td>\n",
              "      <td>0.000000</td>\n",
              "      <td>0.000000</td>\n",
              "      <td>0.00000</td>\n",
              "      <td>0.000000</td>\n",
              "    </tr>\n",
              "    <tr>\n",
              "      <th>race_White,</th>\n",
              "      <td>0.000000</td>\n",
              "      <td>1.000000</td>\n",
              "      <td>1.000000</td>\n",
              "      <td>0.00000</td>\n",
              "      <td>1.000000</td>\n",
              "    </tr>\n",
              "    <tr>\n",
              "      <th>sex_Female,</th>\n",
              "      <td>0.000000</td>\n",
              "      <td>0.000000</td>\n",
              "      <td>0.000000</td>\n",
              "      <td>0.00000</td>\n",
              "      <td>1.000000</td>\n",
              "    </tr>\n",
              "    <tr>\n",
              "      <th>sex_Male,</th>\n",
              "      <td>1.000000</td>\n",
              "      <td>1.000000</td>\n",
              "      <td>1.000000</td>\n",
              "      <td>1.00000</td>\n",
              "      <td>0.000000</td>\n",
              "    </tr>\n",
              "    <tr>\n",
              "      <th>hours-per-week_&lt;40</th>\n",
              "      <td>0.000000</td>\n",
              "      <td>0.000000</td>\n",
              "      <td>0.000000</td>\n",
              "      <td>0.00000</td>\n",
              "      <td>1.000000</td>\n",
              "    </tr>\n",
              "    <tr>\n",
              "      <th>hours-per-week_&gt;=40</th>\n",
              "      <td>1.000000</td>\n",
              "      <td>1.000000</td>\n",
              "      <td>1.000000</td>\n",
              "      <td>1.00000</td>\n",
              "      <td>0.000000</td>\n",
              "    </tr>\n",
              "    <tr>\n",
              "      <th>native-country_Asia</th>\n",
              "      <td>0.000000</td>\n",
              "      <td>0.000000</td>\n",
              "      <td>0.000000</td>\n",
              "      <td>0.00000</td>\n",
              "      <td>0.000000</td>\n",
              "    </tr>\n",
              "    <tr>\n",
              "      <th>native-country_Europe</th>\n",
              "      <td>0.000000</td>\n",
              "      <td>0.000000</td>\n",
              "      <td>0.000000</td>\n",
              "      <td>0.00000</td>\n",
              "      <td>0.000000</td>\n",
              "    </tr>\n",
              "    <tr>\n",
              "      <th>native-country_North-America</th>\n",
              "      <td>1.000000</td>\n",
              "      <td>1.000000</td>\n",
              "      <td>1.000000</td>\n",
              "      <td>1.00000</td>\n",
              "      <td>1.000000</td>\n",
              "    </tr>\n",
              "    <tr>\n",
              "      <th>native-country_South-America</th>\n",
              "      <td>0.000000</td>\n",
              "      <td>0.000000</td>\n",
              "      <td>0.000000</td>\n",
              "      <td>0.00000</td>\n",
              "      <td>0.000000</td>\n",
              "    </tr>\n",
              "    <tr>\n",
              "      <th>Net capital gain or loss_Capital_Gain</th>\n",
              "      <td>0.000000</td>\n",
              "      <td>0.000000</td>\n",
              "      <td>0.000000</td>\n",
              "      <td>0.00000</td>\n",
              "      <td>0.000000</td>\n",
              "    </tr>\n",
              "    <tr>\n",
              "      <th>Net capital gain or loss_Capital_Loss</th>\n",
              "      <td>0.000000</td>\n",
              "      <td>0.000000</td>\n",
              "      <td>0.000000</td>\n",
              "      <td>1.00000</td>\n",
              "      <td>0.000000</td>\n",
              "    </tr>\n",
              "    <tr>\n",
              "      <th>Net capital gain or loss_No_Gain_No_Loss</th>\n",
              "      <td>1.000000</td>\n",
              "      <td>1.000000</td>\n",
              "      <td>1.000000</td>\n",
              "      <td>0.00000</td>\n",
              "      <td>1.000000</td>\n",
              "    </tr>\n",
              "  </tbody>\n",
              "</table>\n",
              "</div>"
            ],
            "text/plain": [
              "                                                 0         1  ...        3         4\n",
              "age                                       3.218876  3.637586  ...  3.78419  2.890372\n",
              "Income                                    0.000000  0.000000  ...  1.00000  0.000000\n",
              "working-class_No-self-Income              0.000000  0.000000  ...  0.00000  0.000000\n",
              "working-class_Private,                    1.000000  1.000000  ...  1.00000  1.000000\n",
              "working-class_Self-emp-inc,               0.000000  0.000000  ...  0.00000  0.000000\n",
              "working-class_Self-emp-not-inc,           0.000000  0.000000  ...  0.00000  0.000000\n",
              "working-class_govt_emp                    0.000000  0.000000  ...  0.00000  0.000000\n",
              "education_Bachelors,                      0.000000  0.000000  ...  0.00000  0.000000\n",
              "education_Doctorate,                      0.000000  0.000000  ...  0.00000  0.000000\n",
              "education_HS-grad,                        0.000000  1.000000  ...  0.00000  0.000000\n",
              "education_Masters,                        0.000000  0.000000  ...  0.00000  0.000000\n",
              "education_Prof-school,                    0.000000  0.000000  ...  0.00000  0.000000\n",
              "education_collage                         0.000000  0.000000  ...  1.00000  1.000000\n",
              "education_school-edu                      1.000000  0.000000  ...  0.00000  0.000000\n",
              "marital-status_Divorced,                  0.000000  0.000000  ...  0.00000  0.000000\n",
              "marital-status_Married-AF-spouse,         0.000000  0.000000  ...  0.00000  0.000000\n",
              "marital-status_Married-civ-spouse,        0.000000  1.000000  ...  1.00000  0.000000\n",
              "marital-status_Married-spouse-absent,     0.000000  0.000000  ...  0.00000  0.000000\n",
              "marital-status_Never-married,             1.000000  0.000000  ...  0.00000  1.000000\n",
              "marital-status_Separated,                 0.000000  0.000000  ...  0.00000  0.000000\n",
              "marital-status_Widowed,                   0.000000  0.000000  ...  0.00000  0.000000\n",
              "occupation_tier1                          0.000000  0.000000  ...  0.00000  1.000000\n",
              "occupation_tier2                          0.000000  0.000000  ...  0.00000  0.000000\n",
              "occupation_tier3                          1.000000  1.000000  ...  1.00000  0.000000\n",
              "race_Amer-Indian-Eskimo,                  0.000000  0.000000  ...  0.00000  0.000000\n",
              "race_Asian-Pac-Islander,                  0.000000  0.000000  ...  0.00000  0.000000\n",
              "race_Black,                               1.000000  0.000000  ...  1.00000  0.000000\n",
              "race_Other,                               0.000000  0.000000  ...  0.00000  0.000000\n",
              "race_White,                               0.000000  1.000000  ...  0.00000  1.000000\n",
              "sex_Female,                               0.000000  0.000000  ...  0.00000  1.000000\n",
              "sex_Male,                                 1.000000  1.000000  ...  1.00000  0.000000\n",
              "hours-per-week_<40                        0.000000  0.000000  ...  0.00000  1.000000\n",
              "hours-per-week_>=40                       1.000000  1.000000  ...  1.00000  0.000000\n",
              "native-country_Asia                       0.000000  0.000000  ...  0.00000  0.000000\n",
              "native-country_Europe                     0.000000  0.000000  ...  0.00000  0.000000\n",
              "native-country_North-America              1.000000  1.000000  ...  1.00000  1.000000\n",
              "native-country_South-America              0.000000  0.000000  ...  0.00000  0.000000\n",
              "Net capital gain or loss_Capital_Gain     0.000000  0.000000  ...  0.00000  0.000000\n",
              "Net capital gain or loss_Capital_Loss     0.000000  0.000000  ...  1.00000  0.000000\n",
              "Net capital gain or loss_No_Gain_No_Loss  1.000000  1.000000  ...  0.00000  1.000000\n",
              "\n",
              "[40 rows x 5 columns]"
            ]
          },
          "metadata": {
            "tags": []
          },
          "execution_count": 584
        }
      ]
    },
    {
      "cell_type": "code",
      "metadata": {
        "id": "HRF4gcH57htj",
        "colab_type": "code",
        "colab": {}
      },
      "source": [
        "from sklearn.preprocessing import LabelEncoder"
      ],
      "execution_count": 0,
      "outputs": []
    },
    {
      "cell_type": "code",
      "metadata": {
        "id": "1a6SJv237htk",
        "colab_type": "code",
        "colab": {}
      },
      "source": [
        "le=LabelEncoder()"
      ],
      "execution_count": 0,
      "outputs": []
    },
    {
      "cell_type": "code",
      "metadata": {
        "id": "rJMI13a67htl",
        "colab_type": "code",
        "colab": {}
      },
      "source": [
        "train=pd.get_dummies(df1)\n",
        "test=pd.get_dummies(dd)"
      ],
      "execution_count": 0,
      "outputs": []
    },
    {
      "cell_type": "code",
      "metadata": {
        "id": "q-dH2v9p7htn",
        "colab_type": "code",
        "colab": {
          "base_uri": "https://localhost:8080/",
          "height": 51
        },
        "outputId": "0a3378cd-78b1-469c-b53d-ca806c02d948"
      },
      "source": [
        "print(train.shape)\n",
        "print(test.shape)"
      ],
      "execution_count": 588,
      "outputs": [
        {
          "output_type": "stream",
          "text": [
            "(32561, 35)\n",
            "(16281, 35)\n"
          ],
          "name": "stdout"
        }
      ]
    },
    {
      "cell_type": "code",
      "metadata": {
        "id": "uYed7YWj7htp",
        "colab_type": "code",
        "colab": {}
      },
      "source": [
        "xtrain=df1.drop('Income',axis=1)\n",
        "ytrain=df1.Income"
      ],
      "execution_count": 0,
      "outputs": []
    },
    {
      "cell_type": "code",
      "metadata": {
        "id": "EbEz9WPtCBht",
        "colab_type": "code",
        "colab": {
          "base_uri": "https://localhost:8080/",
          "height": 1000
        },
        "outputId": "7363de4f-97ca-4292-c63d-ac61b214106e"
      },
      "source": [
        "ytrain"
      ],
      "execution_count": 640,
      "outputs": [
        {
          "output_type": "execute_result",
          "data": {
            "text/plain": [
              "0        0\n",
              "1        0\n",
              "2        0\n",
              "3        0\n",
              "4        0\n",
              "5        0\n",
              "6        0\n",
              "7        1\n",
              "8        1\n",
              "9        1\n",
              "10       1\n",
              "11       1\n",
              "12       0\n",
              "13       0\n",
              "14       1\n",
              "15       0\n",
              "16       0\n",
              "17       0\n",
              "18       0\n",
              "19       1\n",
              "20       1\n",
              "21       0\n",
              "22       0\n",
              "23       0\n",
              "24       0\n",
              "25       1\n",
              "26       0\n",
              "27       1\n",
              "28       0\n",
              "29       0\n",
              "        ..\n",
              "32531    0\n",
              "32532    1\n",
              "32533    1\n",
              "32534    0\n",
              "32535    0\n",
              "32536    1\n",
              "32537    0\n",
              "32538    1\n",
              "32539    1\n",
              "32540    0\n",
              "32541    0\n",
              "32542    0\n",
              "32543    0\n",
              "32544    0\n",
              "32545    1\n",
              "32546    0\n",
              "32547    0\n",
              "32548    0\n",
              "32549    0\n",
              "32550    0\n",
              "32551    0\n",
              "32552    0\n",
              "32553    0\n",
              "32554    1\n",
              "32555    0\n",
              "32556    0\n",
              "32557    1\n",
              "32558    0\n",
              "32559    0\n",
              "32560    1\n",
              "Name: Income, Length: 32561, dtype: int64"
            ]
          },
          "metadata": {
            "tags": []
          },
          "execution_count": 640
        }
      ]
    },
    {
      "cell_type": "code",
      "metadata": {
        "id": "TMk6HhvMA-8e",
        "colab_type": "code",
        "colab": {}
      },
      "source": [
        "xres,yres=smk.fit_sample(xtrain,ytrain)"
      ],
      "execution_count": 0,
      "outputs": []
    },
    {
      "cell_type": "code",
      "metadata": {
        "id": "j-Y_wIRWB1Zb",
        "colab_type": "code",
        "colab": {
          "base_uri": "https://localhost:8080/",
          "height": 51
        },
        "outputId": "51e4a556-f470-45d6-9426-1b84cd920416"
      },
      "source": [
        "print(xres.shape)\n",
        "print(yres.shape)"
      ],
      "execution_count": 642,
      "outputs": [
        {
          "output_type": "stream",
          "text": [
            "(48236, 25)\n",
            "(48236,)\n"
          ],
          "name": "stdout"
        }
      ]
    },
    {
      "cell_type": "code",
      "metadata": {
        "id": "QkBtrX2n7htq",
        "colab_type": "code",
        "colab": {}
      },
      "source": [
        "xtest=dd.drop('Income',axis=1)\n",
        "ytest=dd.Income"
      ],
      "execution_count": 0,
      "outputs": []
    },
    {
      "cell_type": "code",
      "metadata": {
        "id": "WI1utM5ZCMzh",
        "colab_type": "code",
        "colab": {}
      },
      "source": [
        "xres1,yres1=smk.fit_sample(xtest,ytest)"
      ],
      "execution_count": 0,
      "outputs": []
    },
    {
      "cell_type": "code",
      "metadata": {
        "id": "ozEtrjH3CYkF",
        "colab_type": "code",
        "colab": {
          "base_uri": "https://localhost:8080/",
          "height": 51
        },
        "outputId": "19201ebd-4a9d-4f1d-9331-c09740bd95b1"
      },
      "source": [
        "print(xres1.shape)\n",
        "print(yres1.shape)"
      ],
      "execution_count": 645,
      "outputs": [
        {
          "output_type": "stream",
          "text": [
            "(24106, 25)\n",
            "(24106,)\n"
          ],
          "name": "stdout"
        }
      ]
    },
    {
      "cell_type": "code",
      "metadata": {
        "id": "K90KHUKW7htr",
        "colab_type": "code",
        "colab": {}
      },
      "source": [
        ""
      ],
      "execution_count": 0,
      "outputs": []
    },
    {
      "cell_type": "code",
      "metadata": {
        "id": "4e6mljAZ7htt",
        "colab_type": "code",
        "colab": {}
      },
      "source": [
        "from sklearn.linear_model import LogisticRegression\n"
      ],
      "execution_count": 0,
      "outputs": []
    },
    {
      "cell_type": "code",
      "metadata": {
        "id": "xSe1uZ_A7htu",
        "colab_type": "code",
        "colab": {}
      },
      "source": [
        "lg=LogisticRegression()"
      ],
      "execution_count": 0,
      "outputs": []
    },
    {
      "cell_type": "code",
      "metadata": {
        "id": "RNoHzTaz7htv",
        "colab_type": "code",
        "colab": {
          "base_uri": "https://localhost:8080/",
          "height": 156
        },
        "outputId": "b8f726a6-6886-48bd-94d1-c8230fb7b81f"
      },
      "source": [
        "lg.fit(xres,yres)"
      ],
      "execution_count": 648,
      "outputs": [
        {
          "output_type": "stream",
          "text": [
            "/usr/local/lib/python3.6/dist-packages/sklearn/linear_model/logistic.py:432: FutureWarning: Default solver will be changed to 'lbfgs' in 0.22. Specify a solver to silence this warning.\n",
            "  FutureWarning)\n"
          ],
          "name": "stderr"
        },
        {
          "output_type": "execute_result",
          "data": {
            "text/plain": [
              "LogisticRegression(C=1.0, class_weight=None, dual=False, fit_intercept=True,\n",
              "                   intercept_scaling=1, l1_ratio=None, max_iter=100,\n",
              "                   multi_class='warn', n_jobs=None, penalty='l2',\n",
              "                   random_state=None, solver='warn', tol=0.0001, verbose=0,\n",
              "                   warm_start=False)"
            ]
          },
          "metadata": {
            "tags": []
          },
          "execution_count": 648
        }
      ]
    },
    {
      "cell_type": "code",
      "metadata": {
        "id": "eq2-noKE7hty",
        "colab_type": "code",
        "colab": {}
      },
      "source": [
        "pred=lg.predict(xres1)"
      ],
      "execution_count": 0,
      "outputs": []
    },
    {
      "cell_type": "code",
      "metadata": {
        "id": "dRAEtOXi7htz",
        "colab_type": "code",
        "colab": {}
      },
      "source": [
        "from sklearn.metrics import accuracy_score,confusion_matrix,classification_report"
      ],
      "execution_count": 0,
      "outputs": []
    },
    {
      "cell_type": "code",
      "metadata": {
        "id": "rizN-jQt7ht2",
        "colab_type": "code",
        "colab": {
          "base_uri": "https://localhost:8080/",
          "height": 34
        },
        "outputId": "a8350ebd-a58c-4af5-ac61-c1c539923f3f"
      },
      "source": [
        "lg.score(xres,yres)"
      ],
      "execution_count": 651,
      "outputs": [
        {
          "output_type": "execute_result",
          "data": {
            "text/plain": [
              "0.8164234181938801"
            ]
          },
          "metadata": {
            "tags": []
          },
          "execution_count": 651
        }
      ]
    },
    {
      "cell_type": "code",
      "metadata": {
        "id": "7lef1aD47ht3",
        "colab_type": "code",
        "colab": {
          "base_uri": "https://localhost:8080/",
          "height": 34
        },
        "outputId": "5405ec27-edf2-48a6-cb79-821063e8c98c"
      },
      "source": [
        "accuracy_score(yres1,pred)"
      ],
      "execution_count": 652,
      "outputs": [
        {
          "output_type": "execute_result",
          "data": {
            "text/plain": [
              "0.8223263917696839"
            ]
          },
          "metadata": {
            "tags": []
          },
          "execution_count": 652
        }
      ]
    },
    {
      "cell_type": "code",
      "metadata": {
        "id": "1PcVMUOu7ht4",
        "colab_type": "code",
        "colab": {
          "base_uri": "https://localhost:8080/",
          "height": 51
        },
        "outputId": "d2c188d8-ef34-46c4-c64b-db2d4ebe3497"
      },
      "source": [
        "confusion_matrix(yres1,pred)"
      ],
      "execution_count": 653,
      "outputs": [
        {
          "output_type": "execute_result",
          "data": {
            "text/plain": [
              "array([[ 9567,  2486],\n",
              "       [ 1797, 10256]])"
            ]
          },
          "metadata": {
            "tags": []
          },
          "execution_count": 653
        }
      ]
    },
    {
      "cell_type": "code",
      "metadata": {
        "id": "RNWd5rIw7ht7",
        "colab_type": "code",
        "colab": {
          "base_uri": "https://localhost:8080/",
          "height": 170
        },
        "outputId": "f03e4008-2c5f-4e1b-9e36-52a07b162950"
      },
      "source": [
        "print(classification_report(yres1,pred))"
      ],
      "execution_count": 654,
      "outputs": [
        {
          "output_type": "stream",
          "text": [
            "              precision    recall  f1-score   support\n",
            "\n",
            "           0       0.84      0.79      0.82     12053\n",
            "           1       0.80      0.85      0.83     12053\n",
            "\n",
            "    accuracy                           0.82     24106\n",
            "   macro avg       0.82      0.82      0.82     24106\n",
            "weighted avg       0.82      0.82      0.82     24106\n",
            "\n"
          ],
          "name": "stdout"
        }
      ]
    },
    {
      "cell_type": "code",
      "metadata": {
        "id": "wtSTlbuv7ht9",
        "colab_type": "code",
        "colab": {}
      },
      "source": [
        ""
      ],
      "execution_count": 0,
      "outputs": []
    },
    {
      "cell_type": "code",
      "metadata": {
        "id": "V_VropOa7ht-",
        "colab_type": "code",
        "colab": {}
      },
      "source": [
        "from sklearn.tree import DecisionTreeClassifier  \n"
      ],
      "execution_count": 0,
      "outputs": []
    },
    {
      "cell_type": "code",
      "metadata": {
        "id": "xQu5Htcn7ht_",
        "colab_type": "code",
        "colab": {}
      },
      "source": [
        "dt=DecisionTreeClassifier()"
      ],
      "execution_count": 0,
      "outputs": []
    },
    {
      "cell_type": "code",
      "metadata": {
        "id": "KnNtRHP67ht_",
        "colab_type": "code",
        "colab": {}
      },
      "source": [
        "pred1=dt.fit(xres,yres).predict(xres1)"
      ],
      "execution_count": 0,
      "outputs": []
    },
    {
      "cell_type": "code",
      "metadata": {
        "id": "KkF_osce7huA",
        "colab_type": "code",
        "colab": {
          "base_uri": "https://localhost:8080/",
          "height": 34
        },
        "outputId": "11e3045c-256b-4d90-f81f-4583555b06de"
      },
      "source": [
        "dt.score(xres,yres)"
      ],
      "execution_count": 658,
      "outputs": [
        {
          "output_type": "execute_result",
          "data": {
            "text/plain": [
              "0.9245998839041379"
            ]
          },
          "metadata": {
            "tags": []
          },
          "execution_count": 658
        }
      ]
    },
    {
      "cell_type": "code",
      "metadata": {
        "id": "vwHTRu7S7huB",
        "colab_type": "code",
        "colab": {
          "base_uri": "https://localhost:8080/",
          "height": 34
        },
        "outputId": "62068875-71fb-4336-f372-2096dd9ec4f4"
      },
      "source": [
        "accuracy_score(yres1,pred1)"
      ],
      "execution_count": 659,
      "outputs": [
        {
          "output_type": "execute_result",
          "data": {
            "text/plain": [
              "0.8095494897535883"
            ]
          },
          "metadata": {
            "tags": []
          },
          "execution_count": 659
        }
      ]
    },
    {
      "cell_type": "code",
      "metadata": {
        "id": "AydYmAqv7huD",
        "colab_type": "code",
        "colab": {}
      },
      "source": [
        "from sklearn.ensemble import RandomForestClassifier"
      ],
      "execution_count": 0,
      "outputs": []
    },
    {
      "cell_type": "code",
      "metadata": {
        "id": "QhyFpDhO7huE",
        "colab_type": "code",
        "colab": {}
      },
      "source": [
        "rf=RandomForestClassifier()"
      ],
      "execution_count": 0,
      "outputs": []
    },
    {
      "cell_type": "code",
      "metadata": {
        "id": "PShxKeuN7huF",
        "colab_type": "code",
        "colab": {
          "base_uri": "https://localhost:8080/",
          "height": 88
        },
        "outputId": "b31fcab6-b0fc-4588-d457-f5e9f7ba60ec"
      },
      "source": [
        "pred2=rf.fit(xres,yres).predict(xres1)\n",
        "accuracy_score(yres1,pred2)"
      ],
      "execution_count": 662,
      "outputs": [
        {
          "output_type": "stream",
          "text": [
            "/usr/local/lib/python3.6/dist-packages/sklearn/ensemble/forest.py:245: FutureWarning: The default value of n_estimators will change from 10 in version 0.20 to 100 in 0.22.\n",
            "  \"10 in version 0.20 to 100 in 0.22.\", FutureWarning)\n"
          ],
          "name": "stderr"
        },
        {
          "output_type": "execute_result",
          "data": {
            "text/plain": [
              "0.8132000331867585"
            ]
          },
          "metadata": {
            "tags": []
          },
          "execution_count": 662
        }
      ]
    },
    {
      "cell_type": "code",
      "metadata": {
        "id": "Xf6xkiDb7huF",
        "colab_type": "code",
        "colab": {
          "base_uri": "https://localhost:8080/",
          "height": 34
        },
        "outputId": "dff5cc88-f710-458e-8160-fcfc5b885160"
      },
      "source": [
        "rf.score(xtrain,ytrain)"
      ],
      "execution_count": 663,
      "outputs": [
        {
          "output_type": "execute_result",
          "data": {
            "text/plain": [
              "0.8809311753324529"
            ]
          },
          "metadata": {
            "tags": []
          },
          "execution_count": 663
        }
      ]
    },
    {
      "cell_type": "code",
      "metadata": {
        "id": "mDuatqIv7huH",
        "colab_type": "code",
        "colab": {}
      },
      "source": [
        ""
      ],
      "execution_count": 0,
      "outputs": []
    },
    {
      "cell_type": "code",
      "metadata": {
        "id": "kkXoAKYZ7huI",
        "colab_type": "code",
        "colab": {}
      },
      "source": [
        "feature_importances = pd.DataFrame(rf.feature_importances_,\n",
        "                                   index = xtrain.columns,\n",
        "                                    columns=['importance']).sort_values('importance',ascending=False)"
      ],
      "execution_count": 0,
      "outputs": []
    },
    {
      "cell_type": "code",
      "metadata": {
        "id": "xtKV3CXIYou1",
        "colab_type": "code",
        "colab": {
          "base_uri": "https://localhost:8080/",
          "height": 824
        },
        "outputId": "f60873cd-bb7a-464f-d7ec-d27164940533"
      },
      "source": [
        "feature_importances"
      ],
      "execution_count": 666,
      "outputs": [
        {
          "output_type": "execute_result",
          "data": {
            "text/html": [
              "<div>\n",
              "<style scoped>\n",
              "    .dataframe tbody tr th:only-of-type {\n",
              "        vertical-align: middle;\n",
              "    }\n",
              "\n",
              "    .dataframe tbody tr th {\n",
              "        vertical-align: top;\n",
              "    }\n",
              "\n",
              "    .dataframe thead th {\n",
              "        text-align: right;\n",
              "    }\n",
              "</style>\n",
              "<table border=\"1\" class=\"dataframe\">\n",
              "  <thead>\n",
              "    <tr style=\"text-align: right;\">\n",
              "      <th></th>\n",
              "      <th>importance</th>\n",
              "    </tr>\n",
              "  </thead>\n",
              "  <tbody>\n",
              "    <tr>\n",
              "      <th>age</th>\n",
              "      <td>0.344424</td>\n",
              "    </tr>\n",
              "    <tr>\n",
              "      <th>marital-status_with_spouse</th>\n",
              "      <td>0.255919</td>\n",
              "    </tr>\n",
              "    <tr>\n",
              "      <th>occupation_tier3</th>\n",
              "      <td>0.071107</td>\n",
              "    </tr>\n",
              "    <tr>\n",
              "      <th>net_No_Gain_No_Loss</th>\n",
              "      <td>0.054767</td>\n",
              "    </tr>\n",
              "    <tr>\n",
              "      <th>education_school-edu</th>\n",
              "      <td>0.041002</td>\n",
              "    </tr>\n",
              "    <tr>\n",
              "      <th>sex_Male,</th>\n",
              "      <td>0.038496</td>\n",
              "    </tr>\n",
              "    <tr>\n",
              "      <th>hours_&gt;=40</th>\n",
              "      <td>0.028740</td>\n",
              "    </tr>\n",
              "    <tr>\n",
              "      <th>education_HS-grad,</th>\n",
              "      <td>0.028301</td>\n",
              "    </tr>\n",
              "    <tr>\n",
              "      <th>net_Capital_Loss</th>\n",
              "      <td>0.019586</td>\n",
              "    </tr>\n",
              "    <tr>\n",
              "      <th>occupation_tier2</th>\n",
              "      <td>0.017326</td>\n",
              "    </tr>\n",
              "    <tr>\n",
              "      <th>education_collage</th>\n",
              "      <td>0.016506</td>\n",
              "    </tr>\n",
              "    <tr>\n",
              "      <th>education_Masters,</th>\n",
              "      <td>0.012424</td>\n",
              "    </tr>\n",
              "    <tr>\n",
              "      <th>race_White,</th>\n",
              "      <td>0.009686</td>\n",
              "    </tr>\n",
              "    <tr>\n",
              "      <th>education_Prof-school,</th>\n",
              "      <td>0.008358</td>\n",
              "    </tr>\n",
              "    <tr>\n",
              "      <th>working-class_Self-emp-not-inc,</th>\n",
              "      <td>0.008111</td>\n",
              "    </tr>\n",
              "    <tr>\n",
              "      <th>working-class_Private,</th>\n",
              "      <td>0.007732</td>\n",
              "    </tr>\n",
              "    <tr>\n",
              "      <th>working-class_govt_emp</th>\n",
              "      <td>0.007260</td>\n",
              "    </tr>\n",
              "    <tr>\n",
              "      <th>working-class_Self-emp-inc,</th>\n",
              "      <td>0.005888</td>\n",
              "    </tr>\n",
              "    <tr>\n",
              "      <th>race_Black,</th>\n",
              "      <td>0.005566</td>\n",
              "    </tr>\n",
              "    <tr>\n",
              "      <th>continent_North-America</th>\n",
              "      <td>0.005171</td>\n",
              "    </tr>\n",
              "    <tr>\n",
              "      <th>education_Doctorate,</th>\n",
              "      <td>0.005152</td>\n",
              "    </tr>\n",
              "    <tr>\n",
              "      <th>race_Asian-Pac-Islander,</th>\n",
              "      <td>0.003208</td>\n",
              "    </tr>\n",
              "    <tr>\n",
              "      <th>continent_Europe</th>\n",
              "      <td>0.002981</td>\n",
              "    </tr>\n",
              "    <tr>\n",
              "      <th>race_Other,</th>\n",
              "      <td>0.001609</td>\n",
              "    </tr>\n",
              "    <tr>\n",
              "      <th>continent_South-America</th>\n",
              "      <td>0.000680</td>\n",
              "    </tr>\n",
              "  </tbody>\n",
              "</table>\n",
              "</div>"
            ],
            "text/plain": [
              "                                 importance\n",
              "age                                0.344424\n",
              "marital-status_with_spouse         0.255919\n",
              "occupation_tier3                   0.071107\n",
              "net_No_Gain_No_Loss                0.054767\n",
              "education_school-edu               0.041002\n",
              "sex_Male,                          0.038496\n",
              "hours_>=40                         0.028740\n",
              "education_HS-grad,                 0.028301\n",
              "net_Capital_Loss                   0.019586\n",
              "occupation_tier2                   0.017326\n",
              "education_collage                  0.016506\n",
              "education_Masters,                 0.012424\n",
              "race_White,                        0.009686\n",
              "education_Prof-school,             0.008358\n",
              "working-class_Self-emp-not-inc,    0.008111\n",
              "working-class_Private,             0.007732\n",
              "working-class_govt_emp             0.007260\n",
              "working-class_Self-emp-inc,        0.005888\n",
              "race_Black,                        0.005566\n",
              "continent_North-America            0.005171\n",
              "education_Doctorate,               0.005152\n",
              "race_Asian-Pac-Islander,           0.003208\n",
              "continent_Europe                   0.002981\n",
              "race_Other,                        0.001609\n",
              "continent_South-America            0.000680"
            ]
          },
          "metadata": {
            "tags": []
          },
          "execution_count": 666
        }
      ]
    },
    {
      "cell_type": "code",
      "metadata": {
        "id": "IlkQhFsvYuIe",
        "colab_type": "code",
        "colab": {
          "base_uri": "https://localhost:8080/",
          "height": 204
        },
        "outputId": "f423ed89-425e-4825-fb93-727474e8d510"
      },
      "source": [
        "df1.head()"
      ],
      "execution_count": 616,
      "outputs": [
        {
          "output_type": "execute_result",
          "data": {
            "text/html": [
              "<div>\n",
              "<style scoped>\n",
              "    .dataframe tbody tr th:only-of-type {\n",
              "        vertical-align: middle;\n",
              "    }\n",
              "\n",
              "    .dataframe tbody tr th {\n",
              "        vertical-align: top;\n",
              "    }\n",
              "\n",
              "    .dataframe thead th {\n",
              "        text-align: right;\n",
              "    }\n",
              "</style>\n",
              "<table border=\"1\" class=\"dataframe\">\n",
              "  <thead>\n",
              "    <tr style=\"text-align: right;\">\n",
              "      <th></th>\n",
              "      <th>age</th>\n",
              "      <th>working-class</th>\n",
              "      <th>education</th>\n",
              "      <th>marital-status</th>\n",
              "      <th>occupation</th>\n",
              "      <th>race</th>\n",
              "      <th>sex</th>\n",
              "      <th>hours-per-week</th>\n",
              "      <th>native-country</th>\n",
              "      <th>Income</th>\n",
              "      <th>Net capital gain or loss</th>\n",
              "    </tr>\n",
              "  </thead>\n",
              "  <tbody>\n",
              "    <tr>\n",
              "      <th>0</th>\n",
              "      <td>3.663562</td>\n",
              "      <td>govt_emp</td>\n",
              "      <td>Bachelors,</td>\n",
              "      <td>no_spouse</td>\n",
              "      <td>tier3</td>\n",
              "      <td>White,</td>\n",
              "      <td>Male,</td>\n",
              "      <td>&gt;=40</td>\n",
              "      <td>North-America</td>\n",
              "      <td>0</td>\n",
              "      <td>Capital_Loss</td>\n",
              "    </tr>\n",
              "    <tr>\n",
              "      <th>1</th>\n",
              "      <td>3.912023</td>\n",
              "      <td>Self-emp-not-inc,</td>\n",
              "      <td>Bachelors,</td>\n",
              "      <td>with_spouse</td>\n",
              "      <td>tier1</td>\n",
              "      <td>White,</td>\n",
              "      <td>Male,</td>\n",
              "      <td>&lt;40</td>\n",
              "      <td>North-America</td>\n",
              "      <td>0</td>\n",
              "      <td>No_Gain_No_Loss</td>\n",
              "    </tr>\n",
              "    <tr>\n",
              "      <th>2</th>\n",
              "      <td>3.637586</td>\n",
              "      <td>Private,</td>\n",
              "      <td>HS-grad,</td>\n",
              "      <td>no_spouse</td>\n",
              "      <td>tier3</td>\n",
              "      <td>White,</td>\n",
              "      <td>Male,</td>\n",
              "      <td>&gt;=40</td>\n",
              "      <td>North-America</td>\n",
              "      <td>0</td>\n",
              "      <td>No_Gain_No_Loss</td>\n",
              "    </tr>\n",
              "    <tr>\n",
              "      <th>3</th>\n",
              "      <td>3.970292</td>\n",
              "      <td>Private,</td>\n",
              "      <td>school-edu</td>\n",
              "      <td>with_spouse</td>\n",
              "      <td>tier3</td>\n",
              "      <td>Black,</td>\n",
              "      <td>Male,</td>\n",
              "      <td>&gt;=40</td>\n",
              "      <td>North-America</td>\n",
              "      <td>0</td>\n",
              "      <td>No_Gain_No_Loss</td>\n",
              "    </tr>\n",
              "    <tr>\n",
              "      <th>4</th>\n",
              "      <td>3.332205</td>\n",
              "      <td>Private,</td>\n",
              "      <td>Bachelors,</td>\n",
              "      <td>with_spouse</td>\n",
              "      <td>tier1</td>\n",
              "      <td>Black,</td>\n",
              "      <td>Female,</td>\n",
              "      <td>&gt;=40</td>\n",
              "      <td>North-America</td>\n",
              "      <td>0</td>\n",
              "      <td>No_Gain_No_Loss</td>\n",
              "    </tr>\n",
              "  </tbody>\n",
              "</table>\n",
              "</div>"
            ],
            "text/plain": [
              "        age      working-class  ... Income Net capital gain or loss\n",
              "0  3.663562           govt_emp  ...      0             Capital_Loss\n",
              "1  3.912023  Self-emp-not-inc,  ...      0          No_Gain_No_Loss\n",
              "2  3.637586           Private,  ...      0          No_Gain_No_Loss\n",
              "3  3.970292           Private,  ...      0          No_Gain_No_Loss\n",
              "4  3.332205           Private,  ...      0          No_Gain_No_Loss\n",
              "\n",
              "[5 rows x 11 columns]"
            ]
          },
          "metadata": {
            "tags": []
          },
          "execution_count": 616
        }
      ]
    },
    {
      "cell_type": "code",
      "metadata": {
        "id": "K-Mz4B_DnaaG",
        "colab_type": "code",
        "colab": {}
      },
      "source": [
        "cont = pd.get_dummies(df1['working-class'],prefix='working-class',drop_first=True)\n",
        "#Adding the results to the master dataframe\n",
        "df1= pd.concat([df1,cont],axis=1)"
      ],
      "execution_count": 0,
      "outputs": []
    },
    {
      "cell_type": "code",
      "metadata": {
        "id": "Fwz2K9Uen3Uk",
        "colab_type": "code",
        "colab": {}
      },
      "source": [
        "edu = pd.get_dummies(df1['education'],prefix='education',drop_first=True)\n",
        "#Adding the results to the master dataframe\n",
        "df1= pd.concat([df1,edu],axis=1)"
      ],
      "execution_count": 0,
      "outputs": []
    },
    {
      "cell_type": "code",
      "metadata": {
        "id": "2IFA7ygCoH9b",
        "colab_type": "code",
        "colab": {}
      },
      "source": [
        "marital_status = pd.get_dummies(df1['marital-status'],prefix='marital-status',drop_first=True)\n",
        "#Adding the results to the master dataframe\n",
        "df1= pd.concat([df1,marital_status],axis=1)"
      ],
      "execution_count": 0,
      "outputs": []
    },
    {
      "cell_type": "code",
      "metadata": {
        "id": "LRgBekucollf",
        "colab_type": "code",
        "colab": {}
      },
      "source": [
        "occu = pd.get_dummies(df1['occupation'],prefix='occupation',drop_first=True)\n",
        "#Adding the results to the master dataframe\n",
        "df1= pd.concat([df1,occu],axis=1)"
      ],
      "execution_count": 0,
      "outputs": []
    },
    {
      "cell_type": "code",
      "metadata": {
        "id": "PpiBpjVWo8XI",
        "colab_type": "code",
        "colab": {}
      },
      "source": [
        "race = pd.get_dummies(df1['race'],prefix='race',drop_first=True)\n",
        "#Adding the results to the master dataframe\n",
        "df1= pd.concat([df1,race],axis=1)"
      ],
      "execution_count": 0,
      "outputs": []
    },
    {
      "cell_type": "code",
      "metadata": {
        "id": "gSeu7ByXpL1H",
        "colab_type": "code",
        "colab": {}
      },
      "source": [
        "sex = pd.get_dummies(df1['sex'],prefix='sex',drop_first=True)\n",
        "#Adding the results to the master dataframe\n",
        "df1= pd.concat([df1,sex],axis=1)"
      ],
      "execution_count": 0,
      "outputs": []
    },
    {
      "cell_type": "code",
      "metadata": {
        "id": "gOYeoDHFpZSH",
        "colab_type": "code",
        "colab": {}
      },
      "source": [
        "hours = pd.get_dummies(df1['hours-per-week'],prefix='hours',drop_first=True)\n",
        "#Adding the results to the master dataframe\n",
        "df1= pd.concat([df1,hours],axis=1)"
      ],
      "execution_count": 0,
      "outputs": []
    },
    {
      "cell_type": "code",
      "metadata": {
        "id": "eapaRPmspog7",
        "colab_type": "code",
        "colab": {}
      },
      "source": [
        "native = pd.get_dummies(df1['native-country'],prefix='continent',drop_first=True)\n",
        "#Adding the results to the master dataframe\n",
        "df1= pd.concat([df1,native],axis=1)"
      ],
      "execution_count": 0,
      "outputs": []
    },
    {
      "cell_type": "code",
      "metadata": {
        "id": "Lp6_Q8Itp3pm",
        "colab_type": "code",
        "colab": {}
      },
      "source": [
        "net = pd.get_dummies(df1['Net capital gain or loss'],prefix='net',drop_first=True)\n",
        "#Adding the results to the master dataframe\n",
        "df1= pd.concat([df1,net],axis=1)"
      ],
      "execution_count": 0,
      "outputs": []
    },
    {
      "cell_type": "code",
      "metadata": {
        "id": "cWu1O22aqNU7",
        "colab_type": "code",
        "colab": {
          "base_uri": "https://localhost:8080/",
          "height": 34
        },
        "outputId": "85a38e30-7db2-4c0f-f7de-865ed3506cbb"
      },
      "source": [
        "len(df1.columns)"
      ],
      "execution_count": 638,
      "outputs": [
        {
          "output_type": "execute_result",
          "data": {
            "text/plain": [
              "26"
            ]
          },
          "metadata": {
            "tags": []
          },
          "execution_count": 638
        }
      ]
    },
    {
      "cell_type": "code",
      "metadata": {
        "id": "7Co59yWNqWw9",
        "colab_type": "code",
        "colab": {}
      },
      "source": [
        "df1.drop(['working-class', 'education', 'marital-status', 'occupation','race', 'sex', 'hours-per-week', 'native-country','Net capital gain or loss','Net capital gain or loss'],axis=1,inplace=True)"
      ],
      "execution_count": 0,
      "outputs": []
    },
    {
      "cell_type": "code",
      "metadata": {
        "id": "SiEyY0_OrsWf",
        "colab_type": "code",
        "colab": {
          "base_uri": "https://localhost:8080/",
          "height": 204
        },
        "outputId": "64274e07-88a8-42b8-e24b-2c6d2116c0b4"
      },
      "source": [
        "dd.head()"
      ],
      "execution_count": 632,
      "outputs": [
        {
          "output_type": "execute_result",
          "data": {
            "text/html": [
              "<div>\n",
              "<style scoped>\n",
              "    .dataframe tbody tr th:only-of-type {\n",
              "        vertical-align: middle;\n",
              "    }\n",
              "\n",
              "    .dataframe tbody tr th {\n",
              "        vertical-align: top;\n",
              "    }\n",
              "\n",
              "    .dataframe thead th {\n",
              "        text-align: right;\n",
              "    }\n",
              "</style>\n",
              "<table border=\"1\" class=\"dataframe\">\n",
              "  <thead>\n",
              "    <tr style=\"text-align: right;\">\n",
              "      <th></th>\n",
              "      <th>age</th>\n",
              "      <th>working-class</th>\n",
              "      <th>education</th>\n",
              "      <th>marital-status</th>\n",
              "      <th>occupation</th>\n",
              "      <th>race</th>\n",
              "      <th>sex</th>\n",
              "      <th>hours-per-week</th>\n",
              "      <th>native-country</th>\n",
              "      <th>Income</th>\n",
              "      <th>Net capital gain or loss</th>\n",
              "    </tr>\n",
              "  </thead>\n",
              "  <tbody>\n",
              "    <tr>\n",
              "      <th>0</th>\n",
              "      <td>3.218876</td>\n",
              "      <td>Private,</td>\n",
              "      <td>school-edu</td>\n",
              "      <td>no_spouse</td>\n",
              "      <td>tier3</td>\n",
              "      <td>Black,</td>\n",
              "      <td>Male,</td>\n",
              "      <td>&gt;=40</td>\n",
              "      <td>North-America</td>\n",
              "      <td>0</td>\n",
              "      <td>No_Gain_No_Loss</td>\n",
              "    </tr>\n",
              "    <tr>\n",
              "      <th>1</th>\n",
              "      <td>3.637586</td>\n",
              "      <td>Private,</td>\n",
              "      <td>HS-grad,</td>\n",
              "      <td>with_spouse</td>\n",
              "      <td>tier3</td>\n",
              "      <td>White,</td>\n",
              "      <td>Male,</td>\n",
              "      <td>&gt;=40</td>\n",
              "      <td>North-America</td>\n",
              "      <td>0</td>\n",
              "      <td>No_Gain_No_Loss</td>\n",
              "    </tr>\n",
              "    <tr>\n",
              "      <th>2</th>\n",
              "      <td>3.332205</td>\n",
              "      <td>govt_emp</td>\n",
              "      <td>collage</td>\n",
              "      <td>with_spouse</td>\n",
              "      <td>tier2</td>\n",
              "      <td>White,</td>\n",
              "      <td>Male,</td>\n",
              "      <td>&gt;=40</td>\n",
              "      <td>North-America</td>\n",
              "      <td>1</td>\n",
              "      <td>No_Gain_No_Loss</td>\n",
              "    </tr>\n",
              "    <tr>\n",
              "      <th>3</th>\n",
              "      <td>3.784190</td>\n",
              "      <td>Private,</td>\n",
              "      <td>collage</td>\n",
              "      <td>with_spouse</td>\n",
              "      <td>tier3</td>\n",
              "      <td>Black,</td>\n",
              "      <td>Male,</td>\n",
              "      <td>&gt;=40</td>\n",
              "      <td>North-America</td>\n",
              "      <td>1</td>\n",
              "      <td>Capital_Loss</td>\n",
              "    </tr>\n",
              "    <tr>\n",
              "      <th>4</th>\n",
              "      <td>2.890372</td>\n",
              "      <td>Private,</td>\n",
              "      <td>collage</td>\n",
              "      <td>no_spouse</td>\n",
              "      <td>tier1</td>\n",
              "      <td>White,</td>\n",
              "      <td>Female,</td>\n",
              "      <td>&lt;40</td>\n",
              "      <td>North-America</td>\n",
              "      <td>0</td>\n",
              "      <td>No_Gain_No_Loss</td>\n",
              "    </tr>\n",
              "  </tbody>\n",
              "</table>\n",
              "</div>"
            ],
            "text/plain": [
              "        age working-class  ... Income Net capital gain or loss\n",
              "0  3.218876      Private,  ...      0          No_Gain_No_Loss\n",
              "1  3.637586      Private,  ...      0          No_Gain_No_Loss\n",
              "2  3.332205      govt_emp  ...      1          No_Gain_No_Loss\n",
              "3  3.784190      Private,  ...      1             Capital_Loss\n",
              "4  2.890372      Private,  ...      0          No_Gain_No_Loss\n",
              "\n",
              "[5 rows x 11 columns]"
            ]
          },
          "metadata": {
            "tags": []
          },
          "execution_count": 632
        }
      ]
    },
    {
      "cell_type": "code",
      "metadata": {
        "id": "ekxw0w9sq4US",
        "colab_type": "code",
        "colab": {}
      },
      "source": [
        "work = pd.get_dummies(dd['working-class'],prefix='working-class',drop_first=True)\n",
        "#Adding the results to the master dataframe\n",
        "dd= pd.concat([dd,work],axis=1)\n",
        "edu1 = pd.get_dummies(dd['education'],prefix='education',drop_first=True)\n",
        "#Adding the results to the master dataframe\n",
        "dd= pd.concat([dd,edu1],axis=1)\n",
        "marital = pd.get_dummies(dd['marital-status'],prefix='mari',drop_first=True)\n",
        "#Adding the results to the master dataframe\n",
        "dd= pd.concat([dd,marital],axis=1)\n",
        "occu1 = pd.get_dummies(dd['occupation'],prefix='occu',drop_first=True)\n",
        "#Adding the results to the master dataframe\n",
        "dd= pd.concat([dd,occu1],axis=1)\n",
        "race1= pd.get_dummies(dd['race'],prefix='race',drop_first=True)\n",
        "#Adding the results to the master dataframe\n",
        "dd= pd.concat([dd,race1],axis=1)\n",
        "sex1 = pd.get_dummies(dd['sex'],prefix='sex',drop_first=True)\n",
        "#Adding the results to the master dataframe\n",
        "dd= pd.concat([dd,sex1],axis=1)\n",
        "hours1 = pd.get_dummies(dd['hours-per-week'],prefix='hours',drop_first=True)\n",
        "#Adding the results to the master dataframe\n",
        "dd= pd.concat([dd,hours1],axis=1)\n",
        "native1= pd.get_dummies(dd['native-country'],prefix='native',drop_first=True)\n",
        "#Adding the results to the master dataframe\n",
        "dd= pd.concat([dd,native1],axis=1)\n",
        "net1 = pd.get_dummies(dd['Net capital gain or loss'],prefix='net',drop_first=True)\n",
        "#Adding the results to the master dataframe\n",
        "dd= pd.concat([dd,net1],axis=1)"
      ],
      "execution_count": 0,
      "outputs": []
    },
    {
      "cell_type": "code",
      "metadata": {
        "id": "rLa_4UALuMOd",
        "colab_type": "code",
        "colab": {
          "base_uri": "https://localhost:8080/",
          "height": 34
        },
        "outputId": "be32f8c1-0460-4139-8a3e-2c802abfc26e"
      },
      "source": [
        "len(dd.columns)"
      ],
      "execution_count": 637,
      "outputs": [
        {
          "output_type": "execute_result",
          "data": {
            "text/plain": [
              "26"
            ]
          },
          "metadata": {
            "tags": []
          },
          "execution_count": 637
        }
      ]
    },
    {
      "cell_type": "code",
      "metadata": {
        "id": "zHbDON3ZuOG1",
        "colab_type": "code",
        "colab": {}
      },
      "source": [
        "dd.drop(['working-class', 'education', 'marital-status', 'occupation','race', 'sex', 'hours-per-week', 'native-country','Net capital gain or loss','Net capital gain or loss'],axis=1,inplace=True)"
      ],
      "execution_count": 0,
      "outputs": []
    },
    {
      "cell_type": "code",
      "metadata": {
        "id": "IGfRoBtfuiwO",
        "colab_type": "code",
        "colab": {}
      },
      "source": [
        ""
      ],
      "execution_count": 0,
      "outputs": []
    }
  ]
}